{
 "cells": [
  {
   "cell_type": "markdown",
   "metadata": {},
   "source": [
    "# Generative Adversarial Networks in Keras"
   ]
  },
  {
   "cell_type": "markdown",
   "metadata": {},
   "source": [
    "### An improved version based on [GAN](https://arxiv.org/abs/1406.2661) and [DCGAN](https://arxiv.org/abs/1511.06434) paper\n",
    "\n",
    "Using onehot categorical data as extra input of generative model and extra out put of discriminative model\n",
    "\n",
    "Based on [Jeremy Howard's Note book on GAN](https://github.com/fastai/courses/blob/master/deeplearning2/dcgan.py)"
   ]
  },
  {
   "cell_type": "code",
   "execution_count": 1,
   "metadata": {},
   "outputs": [
    {
     "name": "stderr",
     "output_type": "stream",
     "text": [
      "/home/zhangxiaochen/anaconda3/lib/python3.6/site-packages/h5py/__init__.py:34: FutureWarning: Conversion of the second argument of issubdtype from `float` to `np.floating` is deprecated. In future, it will be treated as `np.float64 == np.dtype(float).type`.\n",
      "  from ._conv import register_converters as _register_converters\n",
      "Using TensorFlow backend.\n",
      "/home/zhangxiaochen/anaconda3/lib/python3.6/importlib/_bootstrap.py:205: RuntimeWarning: compiletime version 3.5 of module 'tensorflow.python.framework.fast_tensor_util' does not match runtime version 3.6\n",
      "  return f(*args, **kwds)\n"
     ]
    }
   ],
   "source": [
    "from keras.datasets.mnist import load_data\n",
    "import numpy as np\n",
    "from keras.layers import Input,Dense,Dropout\n",
    "from keras.models import Model,Sequential\n",
    "from keras.optimizers import Adam\n",
    "from keras.layers import Multiply\n",
    "from utils2 import plot_multi\n",
    "%matplotlib inline\n",
    "from matplotlib import pyplot as plt\n",
    "from tqdm import tqdm,trange\n",
    "from keras import backend as K"
   ]
  },
  {
   "cell_type": "code",
   "execution_count": 2,
   "metadata": {},
   "outputs": [
    {
     "name": "stdout",
     "output_type": "stream",
     "text": [
      "(60000, 28, 28)\n",
      "(60000,)\n",
      "(10000, 28, 28)\n",
      "(10000,)\n"
     ]
    }
   ],
   "source": [
    "mnist=load_data()\n",
    "\n",
    "for i in mnist[0]: print(i.shape)\n",
    "for i in mnist[1]: print(i.shape)"
   ]
  },
  {
   "cell_type": "code",
   "execution_count": 3,
   "metadata": {},
   "outputs": [
    {
     "data": {
      "text/plain": [
       "((60000, 784), (60000, 10), (10000, 784), (10000, 10))"
      ]
     },
     "execution_count": 3,
     "metadata": {},
     "output_type": "execute_result"
    }
   ],
   "source": [
    "train_x_,train_y_=mnist[0]\n",
    "valid_x_,valid_y_=mnist[1]\n",
    "\n",
    "# one hot encoding the labels\n",
    "train_x=train_x_.reshape(-1,28*28)\n",
    "valid_x=valid_x_.reshape(-1,28*28)\n",
    "train_y=np.eye(10)[train_y_]\n",
    "valid_y=np.eye(10)[valid_y_]\n",
    "\n",
    "train_x.shape,train_y.shape,valid_x.shape,valid_y.shape"
   ]
  },
  {
   "cell_type": "code",
   "execution_count": 4,
   "metadata": {
    "collapsed": true
   },
   "outputs": [],
   "source": [
    "def noise(bs):\n",
    "    \"\"\"\n",
    "    A function to generate noise on the batch size bs\n",
    "    [gipt,gipt_k]: gipt is the 100 random noise, gipt_k is the number category\n",
    "    \"\"\"\n",
    "    return [np.random.normal(size=(bs,100)),np.eye(10)[(np.random.rand(bs)*10).astype(np.int)]]\n",
    "\n",
    "def noise_(bs):\n",
    "    \"\"\"\n",
    "    A function to generate noise on the batch size bs\n",
    "    [gipt,gipt_k]: gipt is the 100 random noise, gipt_k is the number category\n",
    "    \"\"\"\n",
    "    return np.random.normal(size=(bs,100))\n",
    "noise_(1)\n",
    "\n",
    "def data4D(G,sz):\n",
    "    \"\"\"\n",
    "    Generate date for certain size(usually half of batch size), combining generated(fake) and img data(real)\n",
    "    \"\"\"\n",
    "    idx=np.random.randint(0,len(train_x),size=sz)\n",
    "    real_img=train_x[idx]\n",
    "    real_label=train_y[idx]\n",
    "    noi=noise(sz)\n",
    "    X=np.concatenate((real_img,G.predict(noi)))\n",
    "    # about soft label https://arxiv.org/abs/1606.03498\n",
    "    soft_lbl=np.random.rand(sz*2)/10\n",
    "    soft_lbl[sz:]+=.9\n",
    "    # out put of D:0 for real, 1 for fake\n",
    "    return X,[soft_lbl,np.concatenate([real_label,noi[1]])]\n",
    "    # return X,[np.array([0]*sz+[1]*sz),np.concatenate([real_label,noi[1]])]\n",
    "    \n",
    "def bi_acc(y_true,y_pred):\n",
    "    \"\"\"\n",
    "    binary accuracy\n",
    "    \"\"\"\n",
    "    return K.mean(K.equal(y_true, K.round(y_pred)))"
   ]
  },
  {
   "cell_type": "markdown",
   "metadata": {},
   "source": [
    "### Generative Model: G"
   ]
  },
  {
   "cell_type": "code",
   "execution_count": null,
   "metadata": {
    "collapsed": true
   },
   "outputs": [],
   "source": [
    "gipt=Input((100,))\n",
    "gipt_k=Input((10,))\n",
    "g1=Dense(200,activation=\"relu\")(gipt)\n",
    "g2=Dense(200,activation=\"relu\")(gipt_k)\n",
    "g=Multiply()([g1,g2])\n",
    "g=Dense(512,activation=\"relu\")(g)\n",
    "g=Dense(28*28,activation=\"sigmoid\")(g)\n",
    "G_mlp=Model([gipt,gipt_k],g)"
   ]
  },
  {
   "cell_type": "code",
   "execution_count": null,
   "metadata": {
    "collapsed": true
   },
   "outputs": [],
   "source": [
    "G_mlp.summary()"
   ]
  },
  {
   "cell_type": "code",
   "execution_count": null,
   "metadata": {
    "collapsed": true
   },
   "outputs": [],
   "source": [
    "dipt=Input((28*28,))\n",
    "d=Dense(512,activation=\"relu\")(dipt)\n",
    "d=Dense(512,activation=\"relu\")(d)\n",
    "d1=Dense(1,activation=\"sigmoid\")(d)\n",
    "d2=Dense(10,activation=\"softmax\")(d)\n",
    "D_mlp=Model(dipt,[d1,d2])\n",
    "D_mlp.compile(optimizer=Adam(1e-3),loss=[\"binary_crossentropy\",\"categorical_crossentropy\"])"
   ]
  },
  {
   "cell_type": "code",
   "execution_count": null,
   "metadata": {
    "collapsed": true
   },
   "outputs": [],
   "source": [
    "D_mlp.summary()"
   ]
  },
  {
   "cell_type": "code",
   "execution_count": null,
   "metadata": {
    "collapsed": true
   },
   "outputs": [],
   "source": [
    "M_mlp=Model([gipt,gipt_k],D_mlp(G_mlp.output))"
   ]
  },
  {
   "cell_type": "code",
   "execution_count": null,
   "metadata": {
    "collapsed": true
   },
   "outputs": [],
   "source": [
    "M_mlp.compile(optimizer=Adam(1e-3),loss=[\"binary_crossentropy\",\"categorical_crossentropy\"])"
   ]
  },
  {
   "cell_type": "code",
   "execution_count": null,
   "metadata": {
    "collapsed": true
   },
   "outputs": [],
   "source": [
    "from tqdm import tqdm"
   ]
  },
  {
   "cell_type": "code",
   "execution_count": 17,
   "metadata": {
    "collapsed": true
   },
   "outputs": [],
   "source": [
    "test=data4D(G_mlp,16)"
   ]
  },
  {
   "cell_type": "code",
   "execution_count": 18,
   "metadata": {
    "collapsed": true
   },
   "outputs": [],
   "source": [
    "x,y=test"
   ]
  },
  {
   "cell_type": "code",
   "execution_count": 19,
   "metadata": {},
   "outputs": [
    {
     "name": "stdout",
     "output_type": "stream",
     "text": [
      "(32, 784)\n",
      "(32,)\n",
      "(32, 10)\n"
     ]
    }
   ],
   "source": [
    "print(x.shape)\n",
    "for i in y:\n",
    "    print(i.shape)"
   ]
  },
  {
   "cell_type": "markdown",
   "metadata": {},
   "source": [
    "### Train Function\n",
    "\n",
    "Train function here is based on train_on_batch\n",
    "\n",
    "The return of noise(): noi is[a size (batchsize,100) random number,random labels]\n",
    "\n",
    "Random labels are both used as input of G and output of D"
   ]
  },
  {
   "cell_type": "code",
   "execution_count": 20,
   "metadata": {
    "collapsed": true
   },
   "outputs": [],
   "source": [
    "def train(G,D,M,epochs=5000,bs=128):\n",
    "    # Initialize 2 empety loss list\n",
    "    dl=[];gl=[]\n",
    "    for i in tqdm(range(epochs)):\n",
    "        x,y=data4D(G,bs//2)\n",
    "        # Train Discriminator D\n",
    "        D.trainable = True\n",
    "        for l in D.layers:l.trainable = True\n",
    "        dl.append(D.train_on_batch(x,y))\n",
    "        # Train Generator G by D(G(x))\n",
    "        D.trainable = False\n",
    "        for l in D.layers:l.trainable = False\n",
    "        noi=noise(bs)\n",
    "        gl.append(M.train_on_batch(noi,[np.zeros(bs),noi[1]]))\n",
    "    return dl,gl"
   ]
  },
  {
   "cell_type": "code",
   "execution_count": 23,
   "metadata": {},
   "outputs": [
    {
     "name": "stderr",
     "output_type": "stream",
     "text": [
      "100%|██████████| 5000/5000 [00:38<00:00, 129.44it/s]\n"
     ]
    }
   ],
   "source": [
    "dl_mlp,gl_mlp=train(G_mlp,D_mlp,M_mlp)"
   ]
  },
  {
   "cell_type": "code",
   "execution_count": 9,
   "metadata": {
    "collapsed": true
   },
   "outputs": [],
   "source": [
    "%matplotlib inline\n",
    "from matplotlib import pyplot as plt"
   ]
  },
  {
   "cell_type": "markdown",
   "metadata": {},
   "source": [
    "So I heard this loss doesn't mean anything..."
   ]
  },
  {
   "cell_type": "code",
   "execution_count": 24,
   "metadata": {},
   "outputs": [
    {
     "data": {
      "text/plain": [
       "[<matplotlib.lines.Line2D at 0x7f95d419de48>,\n",
       " <matplotlib.lines.Line2D at 0x7f95d419dfd0>,\n",
       " <matplotlib.lines.Line2D at 0x7f95d41ab240>,\n",
       " <matplotlib.lines.Line2D at 0x7f95d41ab438>,\n",
       " <matplotlib.lines.Line2D at 0x7f95d41b4a20>,\n",
       " <matplotlib.lines.Line2D at 0x7f95d41b4be0>]"
      ]
     },
     "execution_count": 24,
     "metadata": {},
     "output_type": "execute_result"
    },
    {
     "data": {
      "image/png": "[encoded data removed]",
      "text/plain": [
       "<matplotlib.figure.Figure at 0x7f95d607e320>"
      ]
     },
     "metadata": {},
     "output_type": "display_data"
    }
   ],
   "source": [
    "plt.plot(range(5000),dl_mlp,range(5000),gl_mlp)"
   ]
  },
  {
   "cell_type": "code",
   "execution_count": 24,
   "metadata": {},
   "outputs": [
    {
     "data": {
      "image/png": "[encoded data removed]",
      "text/plain": [
       "<matplotlib.figure.Figure at 0x7fcf433c0358>"
      ]
     },
     "metadata": {},
     "output_type": "display_data"
    }
   ],
   "source": [
    "plot_multi(G_mlp.predict([np.random.rand(10,100),\n",
    "                          np.eye(10)[np.array(range(10))]]).reshape(10,28,28), cmap='gray')"
   ]
  },
  {
   "cell_type": "markdown",
   "metadata": {},
   "source": [
    "Yeah... not making much sense\n",
    "\n"
   ]
  },
  {
   "cell_type": "markdown",
   "metadata": {},
   "source": [
    "### Trying Differenct Loss Function"
   ]
  },
  {
   "cell_type": "code",
   "execution_count": null,
   "metadata": {
    "collapsed": true
   },
   "outputs": [],
   "source": [
    "D_mlp.loss=['mae', 'categorical_crossentropy'] # mae: mean absolute error\n",
    "M_mlp.loss=['mae', 'categorical_crossentropy']\n",
    "for i in [D_mlp,M_mlp]:i.reset_states()"
   ]
  },
  {
   "cell_type": "code",
   "execution_count": 36,
   "metadata": {},
   "outputs": [
    {
     "name": "stderr",
     "output_type": "stream",
     "text": [
      "100%|██████████| 10000/10000 [03:06<00:00, 53.51it/s]\n"
     ]
    }
   ],
   "source": [
    "dl_mlp,gl_mlp=train(G_mlp,D_mlp,M_mlp,epochs=10000)"
   ]
  },
  {
   "cell_type": "code",
   "execution_count": 37,
   "metadata": {},
   "outputs": [
    {
     "data": {
      "image/png": "[encoded data removed]",
      "text/plain": [
       "<matplotlib.figure.Figure at 0x7f95a8865fd0>"
      ]
     },
     "metadata": {},
     "output_type": "display_data"
    }
   ],
   "source": [
    "plot_multi(G_mlp.predict([np.random.rand(10,100),\n",
    "                          np.eye(10)[np.array(range(10))]]).reshape(10,28,28), cmap='gray')"
   ]
  },
  {
   "cell_type": "code",
   "execution_count": 39,
   "metadata": {},
   "outputs": [
    {
     "data": {
      "text/plain": [
       "[<matplotlib.lines.Line2D at 0x7f95a7db3518>,\n",
       " <matplotlib.lines.Line2D at 0x7f95a7db34e0>,\n",
       " <matplotlib.lines.Line2D at 0x7f95a7dbd4e0>,\n",
       " <matplotlib.lines.Line2D at 0x7f95a7ce7128>,\n",
       " <matplotlib.lines.Line2D at 0x7f95aa162400>,\n",
       " <matplotlib.lines.Line2D at 0x7f95aa1625c0>]"
      ]
     },
     "execution_count": 39,
     "metadata": {},
     "output_type": "execute_result"
    },
    {
     "data": {
      "image/png": "[encoded data removed]",
      "text/plain": [
       "<matplotlib.figure.Figure at 0x7f95aa4f3b00>"
      ]
     },
     "metadata": {},
     "output_type": "display_data"
    }
   ],
   "source": [
    "rg=int(1e4)\n",
    "plt.plot(range(rg),dl_mlp,range(rg),gl_mlp)"
   ]
  },
  {
   "cell_type": "markdown",
   "metadata": {},
   "source": [
    "Let's try to train discriminator more frequently, in the frequency 5 times more than we train Generator"
   ]
  },
  {
   "cell_type": "code",
   "execution_count": 17,
   "metadata": {
    "collapsed": true
   },
   "outputs": [],
   "source": [
    "def train(G,D,M,slower=5,epochs=5000,bs=128):\n",
    "    \"\"\"\n",
    "    slower:the k in the \n",
    "    \"\"\"\n",
    "    # Initialize 2 empety loss list\n",
    "    dl=[];gl=[]\n",
    "    for i in tqdm(range(epochs)):\n",
    "        x,y=data4D(G,bs//2)\n",
    "        # Train Discriminator D\n",
    "        D.trainable = True\n",
    "        for l in D.layers:l.trainable = True\n",
    "        dl.append(D.train_on_batch(x,y))\n",
    "        # Train Generator G by D(G(x))\n",
    "        if i//slower==0:\n",
    "            D.trainable = False\n",
    "            for l in D.layers:l.trainable = False\n",
    "            noi=noise(bs)\n",
    "            gl.append(M.train_on_batch(noi,[np.zeros(bs),noi[1]]))\n",
    "    return dl,gl"
   ]
  },
  {
   "cell_type": "code",
   "execution_count": null,
   "metadata": {
    "collapsed": true
   },
   "outputs": [],
   "source": [
    "dl_mlp2,gl_mlp2=train(G_mlp,D_mlp,M_mlp)"
   ]
  },
  {
   "cell_type": "code",
   "execution_count": 42,
   "metadata": {},
   "outputs": [
    {
     "data": {
      "image/png": "[encoded data removed]",
      "text/plain": [
       "<matplotlib.figure.Figure at 0x7f95a7d64080>"
      ]
     },
     "metadata": {},
     "output_type": "display_data"
    }
   ],
   "source": [
    "plot_multi(G_mlp.predict([np.random.rand(10,100),\n",
    "                          np.eye(10)[np.array(range(10))]]).reshape(10,28,28), cmap='gray')"
   ]
  },
  {
   "cell_type": "markdown",
   "metadata": {},
   "source": [
    "### Okay... let's move to DCGAN (Deep Convolutional GAN)"
   ]
  },
  {
   "cell_type": "code",
   "execution_count": 5,
   "metadata": {
    "collapsed": true
   },
   "outputs": [],
   "source": [
    "from keras.layers import Conv2D,UpSampling2D,Reshape,BatchNormalization,Flatten\n",
    "from keras.layers.advanced_activations import LeakyReLU\n",
    "from keras.optimizers import SGD,Adam\n",
    "from keras.layers import AveragePooling2D\n",
    "\n",
    "def get_G(gloss=\"binary_crossentropy\",\n",
    "          last_act=\"sigmoid\",\n",
    "          opt=Adam,\n",
    "          lr=1e-4,noise_size=100,\n",
    "          cate_size=10):\n",
    "    gipt=Input((noise_size,))\n",
    "    #gipt_k=Input((cate_size,))\n",
    "    \n",
    "#     g1=Dense(7*7*512,activation=\"relu\")(gipt)\n",
    "#     g2=Dense(7*7*512,activation=\"relu\")(gipt_k)\n",
    "#     g=Multiply()([g1,g2])\n",
    "    g=Dense(7*7*512,activation=\"relu\")(gipt)\n",
    "    g=BatchNormalization()(g)\n",
    "    g=Reshape((7,7,512))(g)\n",
    "    g=UpSampling2D()(g)\n",
    "    g=Conv2D(64,3,strides=(1,1),padding=\"same\",activation=LeakyReLU(alpha=0.2))(g)\n",
    "#     g=Dropout(0.3)(g)\n",
    "    g=UpSampling2D()(g)\n",
    "    g=BatchNormalization()(g)\n",
    "    g=Conv2D(32,3,strides=(1,1),padding=\"same\",activation=LeakyReLU(alpha=0.2))(g)\n",
    "#     g=Dropout(0.3)(g)\n",
    "    g=BatchNormalization()(g)\n",
    "    g=Conv2D(1,1,strides=(1,1),padding=\"same\",activation=last_act)(g)\n",
    "\n",
    "    G_dc=Model(gipt,g,name=\"gmodel\")\n",
    "#     G_dc=Model([gipt,gipt_k],g,name=\"gmodel\")\n",
    "    G_dc.compile(loss=gloss,optimizer=opt(lr))\n",
    "    return G_dc\n",
    "\n",
    "def get_D(dloss=[\"binary_crossentropy\",\"categorical_crossentropy\"],\n",
    "          opt=Adam,\n",
    "          # loss_w=[1,1e-2],\n",
    "          last_act=\"sigmoid\",\n",
    "          # last_act=[\"sigmoid\",\"softmax\"],\n",
    "          lr=1e-4,cate_size=10,ker_size=2):\n",
    "    dipt=Input((28,28,1))\n",
    "    d=Conv2D(128,(ker_size,ker_size),activation=LeakyReLU(0.2),padding=\"same\")(dipt)\n",
    "    d=AveragePooling2D()(d)\n",
    "    d=Dropout(.3)(d)\n",
    "#     d=Conv2D(128,(ker_size,ker_size),strides=2,activation=LeakyReLU(0.2),padding=\"same\")(d)\n",
    "    d=Conv2D(256,(ker_size,ker_size),activation=LeakyReLU(0.2),padding=\"same\")(d)\n",
    "    d=AveragePooling2D()(d)\n",
    "#     d=Conv2D(256,(ker_size,ker_size),strides=2,activation=LeakyReLU(0.2),padding=\"same\")(d)\n",
    "#     d=Conv2D(256,(ker_size,ker_size),activation=LeakyReLU(0.2),padding=\"same\")(d)\n",
    "#     d=Conv2D(256,(ker_size,ker_size),strides=2,activation=LeakyReLU(0.2),padding=\"same\")(d)\n",
    "    d=Flatten()(d)\n",
    "    d=Dense(256,activation=LeakyReLU(alpha=0.2))(d)\n",
    "#     d=Dropout(.3)(d)\n",
    "    # d=BatchNormalization()(d)\n",
    "    d1=Dense(1,activation=last_act,name=\"disc_out\")(d) # discriminator output\n",
    "    #d1=Dense(1,activation=last_act[0],name=\"disc_out\")(d) # discriminator output\n",
    "    # d2=Dense(cate_size,activation=last_act[1],name=\"cls_out\")(d) # classifier output\n",
    "    #D_dc=Model(dipt,[d1,d2],name=\"dmodel\")\n",
    "    D_dc=Model(dipt,d1,name=\"dmodel\")\n",
    "    \n",
    "    D_dc.compile(\n",
    "                    #loss_weights=loss_w,\n",
    "#                  metrics={\"disc_out\":\"accuracy\",\"cls_out\":\"accuracy\"},\n",
    "                 metrics=[\"accuracy\"],\n",
    "                 loss=dloss,optimizer=opt(lr,\n",
    "                                           #beta_1=.5\n",
    "                                          ))\n",
    "    return D_dc\n",
    "\n",
    "# D_dc.summary()\n",
    "\n",
    "def get_GDM(lr=1e-4,ker_size=2,\n",
    "            opt=Adam,\n",
    "            gloss=\"binary_crossentropy\",\n",
    "            dloss=\"binary_crossentropy\",\n",
    "            # dloss=[\"binary_crossentropy\",\"categorical_crossentropy\"],\n",
    "          # loss_w=[1,1e-2],\n",
    "            act_last=\"sigmoid\",\n",
    "            #act_cate=\"softmax\"\n",
    "           ):\n",
    "    \"\"\"\n",
    "    Combine G & D into M\n",
    "    \"\"\"\n",
    "    G_dc=get_G(lr=lr,opt=Adam,\n",
    "               last_act=act_last)\n",
    "    D_dc=get_D(lr=lr,ker_size=ker_size,\n",
    "               opt=opt,\n",
    "               dloss=dloss,\n",
    "               #loss_w=loss_w,\n",
    "               last_act=act_last)\n",
    "               # last_act=[act_last,act_cate])\n",
    "    M_dc=Model(G_dc.input,D_dc(G_dc.output),name=\"gdmodel\")\n",
    "    M_dc.compile(\n",
    "                # loss_weights=loss_w,\n",
    "                 metrics=[bi_acc],\n",
    "#                  metrics={M_dc.layers[-1].output_layers[0]:\"mse\",\n",
    "#                           M_dc.layers[-1].output_layers[1]:\"mse\"},\n",
    "                 optimizer=opt(lr),loss=dloss)\n",
    "    return G_dc,D_dc,M_dc"
   ]
  },
  {
   "cell_type": "markdown",
   "metadata": {},
   "source": [
    "M=D(G(x))\n",
    "\n",
    "as training G use D as a part of the loss function"
   ]
  },
  {
   "cell_type": "code",
   "execution_count": 7,
   "metadata": {},
   "outputs": [
    {
     "data": {
      "text/plain": [
       "array([0.03782693, 0.03738937, 0.00935341, 0.08146972, 0.04258209,\n",
       "       0.08289236, 0.02489555, 0.0013712 , 0.04755096, 0.09543438,\n",
       "       0.03983997, 0.0165521 , 0.05934914, 0.03719633, 0.03524623,\n",
       "       0.06667229, 0.003838  , 0.06005622, 0.07101093, 0.06514255, ...,\n",
       "       0.98962335, 0.91754738, 0.98940052, 0.95476542, 0.9086017 ,\n",
       "       0.92904939, 0.97943674, 0.92767659, 0.96502905, 0.99941271,\n",
       "       0.93372287, 0.92228011, 0.9009916 , 0.93182716, 0.96023462,\n",
       "       0.95501524, 0.97145004, 0.92523177, 0.95217412, 0.98123873])"
      ]
     },
     "execution_count": 7,
     "metadata": {},
     "output_type": "execute_result"
    }
   ],
   "source": [
    "sz=128\n",
    "soft_lbl=np.random.rand(sz*2)/10\n",
    "soft_lbl[sz:]+=.9\n",
    "soft_lbl"
   ]
  },
  {
   "cell_type": "code",
   "execution_count": 8,
   "metadata": {
    "collapsed": true
   },
   "outputs": [],
   "source": [
    "def data4D(G,sz):\n",
    "    \"\"\"\n",
    "    Generate date for certain size(usually half of batch size), combining generated(fake) and img data(real)\n",
    "    \"\"\"\n",
    "    idx=np.random.randint(0,len(train_x),size=sz)\n",
    "    real_img=train_x[idx].reshape(sz,28,28,1)/127-2\n",
    "    real_label=train_y[idx]\n",
    "    noi=noise(sz)\n",
    "    X=np.concatenate((real_img,G.predict(noi)))\n",
    "#     soft_lbl=np.random.rand(sz*2)/10\n",
    "#     soft_lbl[sz:]+=.9\n",
    "    # out put of D:0 for real, 1 for fake\n",
    "    return X,[np.array([0]*sz+[1]*sz),np.concatenate([real_label,noi[1]])]\n",
    "\n",
    "def data4D_(G,sz):\n",
    "    \"\"\"\n",
    "    Generate date for certain size(usually half of batch size), combining generated(fake) and img data(real)\n",
    "    \"\"\"\n",
    "    idx=np.random.randint(0,len(train_x),size=sz)\n",
    "    real_img=train_x[idx].reshape(sz,28,28,1)/127-2\n",
    "    # real_label=train_y[idx]\n",
    "    noi=noise_(sz)\n",
    "    X=np.concatenate((real_img,G.predict(noi)))\n",
    "#     soft_lbl=np.random.rand(sz*2)/10\n",
    "#     soft_lbl[sz:]+=.9\n",
    "    # out put of D:0 for real, 1 for fake\n",
    "    return X,np.array([0]*sz+[1]*sz)\n",
    "\n",
    "def train(G,D,M,lr=1e-4,reset_lr=True,train_cls=True,d_head=300,slower=5,epochs_cls=1,epochs=5000,bs=128):\n",
    "    \"\"\"\n",
    "    G:Generative Model\n",
    "    D:Dsicriminative Model\n",
    "    M:D(G(x))\n",
    "    d_head: head start of Discriminative Model D\n",
    "    slower: how slower you want to train G, compare to D\n",
    "    epochs: epochs of training\n",
    "    bs: batch_size\n",
    "    \"\"\"\n",
    "    # Initialize 2 empety loss list\n",
    "    dl=[];gl=[]\n",
    "    if train_cls:\n",
    "        print(\"Train D as classifier first\")\n",
    "        lw=D.loss_weights\n",
    "        D.loss_weights=[1e-6,1]\n",
    "        D.fit(train_x_.reshape(-1,28,28,1),[np.zeros(train_y.shape[0]),train_y],epochs=epochs_cls,batch_size=bs)\n",
    "        D.loss_weights=lw\n",
    "        M.loss_weights=lw\n",
    "    print(\"Start training GAN\")\n",
    "    for i in tqdm(range(epochs)):\n",
    "        x,y=data4D(G,bs//2)\n",
    "        # Train Discriminator D\n",
    "        D.trainable = True\n",
    "        for l in D.layers:l.trainable = True\n",
    "        dl.append(D.train_on_batch(x,y))\n",
    "        # Train Generator G by D(G(x))\n",
    "        if i>d_head and i%slower==0:\n",
    "            D.trainable = False\n",
    "            for l in D.layers:l.trainable = False\n",
    "            noi=noise(bs)\n",
    "            gl.append(M.train_on_batch(noi,[np.zeros(bs),noi[1]]))\n",
    "        if i%300==0:\n",
    "            if reset_lr:\n",
    "                for md in [D,G,M]:md.optimizer.lr=1e-4\n",
    "            plot_multi(G.predict([np.random.rand(10,100),\n",
    "                      np.eye(10)[np.array(range(10))]]).reshape(10,28,28), cmap='gray')\n",
    "    return dl,gl\n",
    "\n",
    "from math import exp\n",
    "def lw_exp(x):\n",
    "    return 1.0/(1.0-exp(-x-0.001))\n",
    "\n",
    "def train_saw_(G,D,M,lr=2e-4,\n",
    "              badge=.8,\n",
    "              train_cls=True,\n",
    "              epochs_cls=1,\n",
    "                d2m_lr=1e-1,\n",
    "               lead=300,\n",
    "              epochs=5000,\n",
    "              bs=128):\n",
    "    \"\"\"\n",
    "    G:Generative Model\n",
    "    D:Dsicriminative Model\n",
    "    M:D(G(x))\n",
    "    badge:the badge value, how god should a D be, we will train a G\n",
    "    epochs: epochs of training\n",
    "    bs: batch_size\n",
    "    \"\"\"\n",
    "    # Initialize 2 empety loss list\n",
    "    lgan=[]\n",
    "    train_type=[]\n",
    "#     if train_cls:\n",
    "#         print(\"Train D as classifier first\")\n",
    "#         lw=D.loss_weights\n",
    "#         D.loss_weights=[0,1]\n",
    "#         D.fit(train_x_.reshape(-1,28,28,1),[np.zeros(train_y.shape[0]),train_y],epochs=epochs_cls,batch_size=bs)\n",
    "#         D.loss_weights=lw\n",
    "#         M.loss_weights=lw\n",
    "    \n",
    "    \n",
    "    w=trange(lead)\n",
    "    for i in w:\n",
    "        x,y=data4D_(G,bs//2)\n",
    "        D.optimizer.lr=lr\n",
    "        lgan.append(D.train_on_batch(x,y))\n",
    "        train_type.append(\"D\")\n",
    "        w.set_postfix(g_per=\"%.1f\"%(train_type[-100:].count(\"G\")*100/len(train_type[-100:])),# persentage of G in last 100 steps\n",
    "                    last=train_type[-1],\n",
    "                      dis_acc=\"%.1f\"%(100*lgan[-1][-1])\n",
    "                     )\n",
    "    print(\"Start training GAN\")\n",
    "    t=trange(epochs)\n",
    "    for i in t:\n",
    "        # for md in [D,M]:md.loss_weights=[lw_exp(lgan[-1][-2]),lw_exp(lgan[-1][-1])]\n",
    "        if (train_type[-1]==\"D\" and lgan[-1][-1]<badge) or (train_type[-1]==\"G\" and lgan[-1][-1]>badge):\n",
    "            x,y=data4D_(G,bs//2)\n",
    "            D.optimizer.lr=lr\n",
    "            # Train Discriminator D\n",
    "            D.trainable = True\n",
    "            for l in D.layers:l.trainable = True\n",
    "            lgan.append(D.train_on_batch(x,y))\n",
    "            train_type.append(\"D\")\n",
    "        else:\n",
    "            M.optimizer.lr=lr*d2m_lr\n",
    "            # Train Generator G by D(G(x))\n",
    "            D.trainable = False\n",
    "            for l in D.layers:l.trainable = False\n",
    "            noi=noise_(bs)\n",
    "            lgan.append(M.train_on_batch(noi,\n",
    "                                         np.zeros(bs),\n",
    "#                                          [np.zeros(bs),noi[1]]\n",
    "                                        )\n",
    "                       )\n",
    "            train_type.append(\"G\")\n",
    "        t.set_postfix(g_per=\"%.1f\"%(train_type[-100:].count(\"G\")*100/len(train_type[-100:])),# persentage of G in last 100 steps\n",
    "                    last=train_type[-1],\n",
    "                      dis_acc=\"%.1f\"%(100*lgan[-1][-1]),\n",
    "                      loss=\"%.6f\"%(100*lgan[-1][0]),\n",
    "#                       cls_acc=\"%.1f\"%(100*lgan[-1][-1]),\n",
    "#                       lw_dis=D.loss_weights[0],\n",
    "#                       lw_cls=D.loss_weights[1],\n",
    "                     )\n",
    "        if i%300==0:\n",
    "            plot_multi(G.predict(\n",
    "#                 [\n",
    "                    np.random.rand(10,100),\n",
    "#                       np.eye(10)[np.array(range(10))]]\n",
    "            ).reshape(10,28,28), cmap='gray')\n",
    "    return lgan,train_type\n"
   ]
  },
  {
   "cell_type": "code",
   "execution_count": 9,
   "metadata": {},
   "outputs": [
    {
     "name": "stderr",
     "output_type": "stream",
     "text": [
      "/home/zhangxiaochen/anaconda3/lib/python3.6/site-packages/keras/activations.py:103: UserWarning: Do not pass a layer instance (such as LeakyReLU) as the activation argument of another layer. Instead, advanced activation layers should be used just like any other layer in a model.\n",
      "  ).format(identifier=identifier.__class__.__name__))\n"
     ]
    }
   ],
   "source": [
    "G_dc,D_dc,M_dc=get_GDM(opt=Adam,\n",
    "                       gloss=\"binary_crossentropy\",\n",
    "                        dloss=\"binary_crossentropy\",\n",
    "#                         dloss=[\"binary_crossentropy\",\"categorical_crossentropy\"],\n",
    "                       ker_size=3,\n",
    "                      # loss_w=[1,1]\n",
    "                      )"
   ]
  },
  {
   "cell_type": "code",
   "execution_count": 10,
   "metadata": {},
   "outputs": [
    {
     "name": "stderr",
     "output_type": "stream",
     "text": [
      "/home/zhangxiaochen/anaconda3/lib/python3.6/site-packages/keras/activations.py:103: UserWarning: Do not pass a layer instance (such as LeakyReLU) as the activation argument of another layer. Instead, advanced activation layers should be used just like any other layer in a model.\n",
      "  ).format(identifier=identifier.__class__.__name__))\n"
     ]
    }
   ],
   "source": [
    "D_dc=get_D(ker_size=3,dloss=\"binary_crossentropy\",opt=Adam,)"
   ]
  },
  {
   "cell_type": "code",
   "execution_count": 11,
   "metadata": {},
   "outputs": [
    {
     "name": "stderr",
     "output_type": "stream",
     "text": [
      "100%|██████████| 100/100 [00:05<00:00, 25.99it/s, dis_acc=100.0, g_per=0.0, last=D]\n",
      "  0%|          | 0/2000 [00:00<?, ?it/s]"
     ]
    },
    {
     "name": "stdout",
     "output_type": "stream",
     "text": [
      "Start training GAN\n"
     ]
    },
    {
     "name": "stderr",
     "output_type": "stream",
     "text": [
      "100%|██████████| 2000/2000 [01:58<00:00, 16.94it/s, dis_acc=100.0, g_per=50.0, last=G, loss=0.000057]\n"
     ]
    },
    {
     "data": {
      "image/png": "[encoded data removed]",
      "text/plain": [
       "<matplotlib.figure.Figure at 0x7fd518415d30>"
      ]
     },
     "metadata": {},
     "output_type": "display_data"
    },
    {
     "data": {
      "image/png": "[encoded data removed]",
      "text/plain": [
       "<matplotlib.figure.Figure at 0x7fd4cc3e6940>"
      ]
     },
     "metadata": {},
     "output_type": "display_data"
    },
    {
     "data": {
      "image/png": "[encoded data removed]",
      "text/plain": [
       "<matplotlib.figure.Figure at 0x7fd4cc412c50>"
      ]
     },
     "metadata": {},
     "output_type": "display_data"
    },
    {
     "data": {
      "image/png": "[encoded data removed]",
      "text/plain": [
       "<matplotlib.figure.Figure at 0x7fd4bc220c50>"
      ]
     },
     "metadata": {},
     "output_type": "display_data"
    },
    {
     "data": {
      "image/png": "[encoded data removed]",
      "text/plain": [
       "<matplotlib.figure.Figure at 0x7fd4bc5c1550>"
      ]
     },
     "metadata": {},
     "output_type": "display_data"
    },
    {
     "data": {
      "image/png": "[encoded data removed]",
      "text/plain": [
       "<matplotlib.figure.Figure at 0x7fd48520e400>"
      ]
     },
     "metadata": {},
     "output_type": "display_data"
    },
    {
     "data": {
      "image/png": "[encoded data removed]",
      "text/plain": [
       "<matplotlib.figure.Figure at 0x7fd484e31a90>"
      ]
     },
     "metadata": {},
     "output_type": "display_data"
    }
   ],
   "source": [
    "##### dl_dc,gl_dc=train(G_dc,D_dc,M_dc,train_cls=False,\n",
    "#                   d_head=200,\n",
    "#                   slower=5,\n",
    "#                   epochs=2500,\n",
    "#                   bs=256,)\n",
    "loss_dc,GvsD_dc=train_saw_(G_dc,\n",
    "                          D_dc,\n",
    "                          M_dc,\n",
    "                          lr=1e-5,\n",
    "                           d2m_lr=10,\n",
    "                           lead=100,\n",
    "                          train_cls=True,\n",
    "                          badge=.9,\n",
    "                          epochs=2000,\n",
    "                          bs=128,)"
   ]
  },
  {
   "cell_type": "code",
   "execution_count": 20,
   "metadata": {
    "collapsed": true
   },
   "outputs": [
    {
     "data": {
      "text/plain": [
       "([[1.0000002e-07, 1.0],\n",
       "  [1.221466e-05, 1.0],\n",
       "  [1.0000002e-07, 1.0],\n",
       "  [1.0063601e-05, 1.0],\n",
       "  [1.0000002e-07, 1.0],\n",
       "  [8.3338982e-06, 1.0],\n",
       "  [1.0000002e-07, 1.0],\n",
       "  [1.1535196e-05, 1.0],\n",
       "  [1.0000002e-07, 1.0],\n",
       "  [8.8690867e-06, 1.0],\n",
       "  [1.0000002e-07, 1.0],\n",
       "  [9.244739e-06, 1.0],\n",
       "  [1.0000002e-07, 1.0],\n",
       "  [8.1264188e-06, 1.0],\n",
       "  [1.0000002e-07, 1.0],\n",
       "  [1.1465554e-05, 1.0],\n",
       "  [1.0000002e-07, 1.0],\n",
       "  [1.1574531e-05, 1.0],\n",
       "  [1.0000002e-07, 1.0],\n",
       "  [9.6637232e-06, 1.0],\n",
       "  [1.0000002e-07, 1.0],\n",
       "  [8.393753e-06, 1.0],\n",
       "  [1.0000002e-07, 1.0],\n",
       "  [1.0385367e-05, 1.0],\n",
       "  [1.0000002e-07, 1.0],\n",
       "  [1.1239598e-05, 1.0],\n",
       "  [1.0000002e-07, 1.0],\n",
       "  [1.3263561e-05, 1.0],\n",
       "  [1.0000002e-07, 1.0],\n",
       "  [8.4066696e-06, 1.0],\n",
       "  [1.0000002e-07, 1.0],\n",
       "  [1.0990641e-05, 1.0],\n",
       "  [1.0000002e-07, 1.0],\n",
       "  [1.2218596e-05, 1.0],\n",
       "  [1.0000002e-07, 1.0],\n",
       "  [1.1145195e-05, 1.0],\n",
       "  [1.0000002e-07, 1.0],\n",
       "  [1.0915753e-05, 1.0],\n",
       "  [1.0000002e-07, 1.0],\n",
       "  [1.165412e-05, 1.0],\n",
       "  [1.0000002e-07, 1.0],\n",
       "  [8.2846336e-06, 1.0],\n",
       "  [1.0000002e-07, 1.0],\n",
       "  [1.1116834e-05, 1.0],\n",
       "  [1.0000002e-07, 1.0],\n",
       "  [1.0013628e-05, 1.0],\n",
       "  [1.0000002e-07, 1.0],\n",
       "  [9.3570598e-06, 1.0],\n",
       "  [1.0000002e-07, 1.0],\n",
       "  [1.0869001e-05, 1.0],\n",
       "  [1.0000002e-07, 1.0],\n",
       "  [9.5309588e-06, 1.0],\n",
       "  [1.0000002e-07, 1.0],\n",
       "  [8.4659732e-06, 1.0],\n",
       "  [1.0000002e-07, 1.0],\n",
       "  [9.3726667e-06, 1.0],\n",
       "  [1.0000002e-07, 1.0],\n",
       "  [7.7250234e-06, 1.0],\n",
       "  [1.0000002e-07, 1.0],\n",
       "  [8.5305601e-06, 1.0],\n",
       "  [1.0000002e-07, 1.0],\n",
       "  [8.766865e-06, 1.0],\n",
       "  [1.0000002e-07, 1.0],\n",
       "  [8.7383787e-06, 1.0],\n",
       "  [1.0000002e-07, 1.0],\n",
       "  [9.3013996e-06, 1.0],\n",
       "  [1.0000002e-07, 1.0],\n",
       "  [8.1114085e-06, 1.0],\n",
       "  [1.0000002e-07, 1.0],\n",
       "  [8.4859457e-06, 1.0],\n",
       "  [1.0000002e-07, 1.0],\n",
       "  [1.1936131e-05, 1.0],\n",
       "  [1.0000002e-07, 1.0],\n",
       "  [7.2927905e-06, 1.0],\n",
       "  [1.0000002e-07, 1.0],\n",
       "  [9.9961253e-06, 1.0],\n",
       "  [1.0000002e-07, 1.0],\n",
       "  [7.8079829e-06, 1.0],\n",
       "  [1.0000002e-07, 1.0],\n",
       "  [1.0659905e-05, 1.0],\n",
       "  [1.0000002e-07, 1.0],\n",
       "  [9.6703216e-06, 1.0],\n",
       "  [1.0000002e-07, 1.0],\n",
       "  [1.0919981e-05, 1.0],\n",
       "  [1.0000002e-07, 1.0],\n",
       "  [9.7287593e-06, 1.0],\n",
       "  [1.0000002e-07, 1.0],\n",
       "  [9.7011198e-06, 1.0],\n",
       "  [1.0000002e-07, 1.0],\n",
       "  [1.2596697e-05, 1.0],\n",
       "  [1.0000002e-07, 1.0],\n",
       "  [1.1000839e-05, 1.0],\n",
       "  [1.0000002e-07, 1.0],\n",
       "  [9.3838535e-06, 1.0],\n",
       "  [1.0000002e-07, 1.0],\n",
       "  [8.6562914e-06, 1.0],\n",
       "  [1.0000002e-07, 1.0],\n",
       "  [1.1544599e-05, 1.0],\n",
       "  [1.0000002e-07, 1.0],\n",
       "  [1.1767498e-05, 1.0]],\n",
       " ['G',\n",
       "  'D',\n",
       "  'G',\n",
       "  'D',\n",
       "  'G',\n",
       "  'D',\n",
       "  'G',\n",
       "  'D',\n",
       "  'G',\n",
       "  'D',\n",
       "  'G',\n",
       "  'D',\n",
       "  'G',\n",
       "  'D',\n",
       "  'G',\n",
       "  'D',\n",
       "  'G',\n",
       "  'D',\n",
       "  'G',\n",
       "  'D',\n",
       "  'G',\n",
       "  'D',\n",
       "  'G',\n",
       "  'D',\n",
       "  'G',\n",
       "  'D',\n",
       "  'G',\n",
       "  'D',\n",
       "  'G',\n",
       "  'D',\n",
       "  'G',\n",
       "  'D',\n",
       "  'G',\n",
       "  'D',\n",
       "  'G',\n",
       "  'D',\n",
       "  'G',\n",
       "  'D',\n",
       "  'G',\n",
       "  'D',\n",
       "  'G',\n",
       "  'D',\n",
       "  'G',\n",
       "  'D',\n",
       "  'G',\n",
       "  'D',\n",
       "  'G',\n",
       "  'D',\n",
       "  'G',\n",
       "  'D',\n",
       "  'G',\n",
       "  'D',\n",
       "  'G',\n",
       "  'D',\n",
       "  'G',\n",
       "  'D',\n",
       "  'G',\n",
       "  'D',\n",
       "  'G',\n",
       "  'D',\n",
       "  'G',\n",
       "  'D',\n",
       "  'G',\n",
       "  'D',\n",
       "  'G',\n",
       "  'D',\n",
       "  'G',\n",
       "  'D',\n",
       "  'G',\n",
       "  'D',\n",
       "  'G',\n",
       "  'D',\n",
       "  'G',\n",
       "  'D',\n",
       "  'G',\n",
       "  'D',\n",
       "  'G',\n",
       "  'D',\n",
       "  'G',\n",
       "  'D',\n",
       "  'G',\n",
       "  'D',\n",
       "  'G',\n",
       "  'D',\n",
       "  'G',\n",
       "  'D',\n",
       "  'G',\n",
       "  'D',\n",
       "  'G',\n",
       "  'D',\n",
       "  'G',\n",
       "  'D',\n",
       "  'G',\n",
       "  'D',\n",
       "  'G',\n",
       "  'D',\n",
       "  'G',\n",
       "  'D',\n",
       "  'G',\n",
       "  'D'])"
      ]
     },
     "execution_count": 20,
     "metadata": {},
     "output_type": "execute_result"
    }
   ],
   "source": [
    "loss_dc[-100:],GvsD_dc[-100:]\n",
    "\n"
   ]
  },
  {
   "cell_type": "code",
   "execution_count": 29,
   "metadata": {},
   "outputs": [
    {
     "data": {
      "text/plain": [
       "['loss', 'dmodel_loss', 'dmodel_loss', 'dmodel_acc', 'dmodel_acc']"
      ]
     },
     "execution_count": 29,
     "metadata": {},
     "output_type": "execute_result"
    }
   ],
   "source": [
    "M_dc.metrics_names"
   ]
  },
  {
   "cell_type": "code",
   "execution_count": 99,
   "metadata": {},
   "outputs": [
    {
     "data": {
      "text/plain": [
       "[<tf.Tensor 'dmodel_22/disc_out/Sigmoid:0' shape=(?, 1) dtype=float32>,\n",
       " <tf.Tensor 'dmodel_22/cls_out/Softmax:0' shape=(?, 10) dtype=float32>]"
      ]
     },
     "execution_count": 99,
     "metadata": {},
     "output_type": "execute_result"
    }
   ],
   "source": [
    "Model(G_dc.input,D_dc(G_dc.output),name=\"gdmodel\").output"
   ]
  },
  {
   "cell_type": "code",
   "execution_count": 93,
   "metadata": {
    "collapsed": true
   },
   "outputs": [],
   "source": [
    "def testgd(G,D,M):\n",
    "    x,y=data4D_(G,32//2)\n",
    "    # Train Discriminator D\n",
    "    D.trainable = True\n",
    "    for l in D.layers:l.trainable = True\n",
    "    ddict = dict((k,v) for k,v in zip(D.metrics_names,D.evaluate(x,y)))\n",
    "    inf_d = D.predict(x)\n",
    "    D.trainable = False\n",
    "    for l in D.layers:l.trainable = False\n",
    "    noi=noise_(32)\n",
    "    mdict = dict((k,v) for k,v in zip(M.metrics_names,M.evaluate(noi,np.zeros(32),)))\n",
    "    inf_m = M.predict(noi)\n",
    "    return ddict, mdict ,inf_d,len(np.zeros(32)),np.round(inf_m)"
   ]
  },
  {
   "cell_type": "code",
   "execution_count": 94,
   "metadata": {
    "collapsed": true
   },
   "outputs": [],
   "source": [
    "from keras.metrics import binary_accuracy\n",
    "M_dc.metrics=[bi_acc]\n"
   ]
  },
  {
   "cell_type": "code",
   "execution_count": 95,
   "metadata": {},
   "outputs": [
    {
     "name": "stdout",
     "output_type": "stream",
     "text": [
      "32/32 [==============================] - 0s\n",
      "32/32 [==============================] - 0s\n"
     ]
    },
    {
     "data": {
      "text/plain": [
       "({'acc': 1.0, 'loss': 0.013372402638196945},\n",
       " {'acc': 0.0, 'loss': 3.6276662349700928},\n",
       " array([[  4.81866607e-07],\n",
       "        [  3.47945189e-07],\n",
       "        [  5.56266059e-07],\n",
       "        [  6.05969944e-07],\n",
       "        [  1.34169909e-07],\n",
       "        [  8.36717930e-08],\n",
       "        [  6.01051909e-07],\n",
       "        [  1.12345361e-07],\n",
       "        [  9.99694635e-07],\n",
       "        [  3.45198032e-06],\n",
       "        [  3.69826608e-07],\n",
       "        [  1.91681394e-07],\n",
       "        [  2.42356975e-07],\n",
       "        [  1.61923950e-07],\n",
       "        [  5.94998482e-07],\n",
       "        [  1.46976760e-07],\n",
       "        [  9.70808208e-01],\n",
       "        [  9.71666873e-01],\n",
       "        [  9.70864356e-01],\n",
       "        [  9.74046469e-01],\n",
       "        [  9.76767838e-01],\n",
       "        [  9.74742174e-01],\n",
       "        [  9.73903179e-01],\n",
       "        [  9.71898675e-01],\n",
       "        [  9.75868225e-01],\n",
       "        [  9.74892497e-01],\n",
       "        [  9.74696815e-01],\n",
       "        [  9.76996720e-01],\n",
       "        [  9.74333286e-01],\n",
       "        [  9.70135212e-01],\n",
       "        [  9.73492563e-01],\n",
       "        [  9.72684622e-01]], dtype=float32),\n",
       " 32,\n",
       " array([[ 1.],\n",
       "        [ 1.],\n",
       "        [ 1.],\n",
       "        [ 1.],\n",
       "        [ 1.],\n",
       "        [ 1.],\n",
       "        [ 1.],\n",
       "        [ 1.],\n",
       "        [ 1.],\n",
       "        [ 1.],\n",
       "        [ 1.],\n",
       "        [ 1.],\n",
       "        [ 1.],\n",
       "        [ 1.],\n",
       "        [ 1.],\n",
       "        [ 1.],\n",
       "        [ 1.],\n",
       "        [ 1.],\n",
       "        [ 1.],\n",
       "        [ 1.],\n",
       "        [ 1.],\n",
       "        [ 1.],\n",
       "        [ 1.],\n",
       "        [ 1.],\n",
       "        [ 1.],\n",
       "        [ 1.],\n",
       "        [ 1.],\n",
       "        [ 1.],\n",
       "        [ 1.],\n",
       "        [ 1.],\n",
       "        [ 1.],\n",
       "        [ 1.]], dtype=float32))"
      ]
     },
     "execution_count": 95,
     "metadata": {},
     "output_type": "execute_result"
    }
   ],
   "source": [
    "testgd(G_dc,D_dc,M_dc)"
   ]
  },
  {
   "cell_type": "code",
   "execution_count": 20,
   "metadata": {},
   "outputs": [
    {
     "data": {
      "text/plain": [
       "'disc_out'"
      ]
     },
     "execution_count": 20,
     "metadata": {},
     "output_type": "execute_result"
    }
   ],
   "source": [
    ".name"
   ]
  },
  {
   "cell_type": "code",
   "execution_count": 77,
   "metadata": {
    "collapsed": true
   },
   "outputs": [],
   "source": [
    "def bi_acc(y_true,y_pred):\n",
    "    \"\"\"\n",
    "    binary accuracy\n",
    "    \"\"\"\n",
    "    return K.mean(K.equal(y_true, K.round(y_pred)))"
   ]
  },
  {
   "cell_type": "code",
   "execution_count": 27,
   "metadata": {
    "collapsed": true
   },
   "outputs": [],
   "source": [
    "def plot_G(G):\n",
    "    plot_multi(G.predict([np.random.rand(10,100),\n",
    "                          np.eye(10)[np.array(range(10))]]).reshape(10,28,28), cmap='gray')"
   ]
  },
  {
   "cell_type": "code",
   "execution_count": 35,
   "metadata": {},
   "outputs": [
    {
     "data": {
      "image/png": "[encoded data removed]",
      "text/plain": [
       "<matplotlib.figure.Figure at 0x7f6eb15f35c0>"
      ]
     },
     "metadata": {},
     "output_type": "display_data"
    }
   ],
   "source": [
    "plot_G(G_dc)"
   ]
  },
  {
   "cell_type": "code",
   "execution_count": 16,
   "metadata": {},
   "outputs": [
    {
     "data": {
      "image/png": "[encoded data removed]",
      "text/plain": [
       "<matplotlib.figure.Figure at 0x7f3864009748>"
      ]
     },
     "metadata": {},
     "output_type": "display_data"
    }
   ],
   "source": [
    "plot_G(G_dc)"
   ]
  },
  {
   "cell_type": "code",
   "execution_count": 29,
   "metadata": {},
   "outputs": [
    {
     "data": {
      "image/png": "[encoded data removed]",
      "text/plain": [
       "<matplotlib.figure.Figure at 0x7f9192e65fd0>"
      ]
     },
     "metadata": {},
     "output_type": "display_data"
    }
   ],
   "source": [
    "plot_multi(G_dc.predict([np.random.rand(4,100),\n",
    "                          np.eye(10)[np.array([2,2,3,3])]+np.eye(10)[np.array([1,1,2,2])]]).reshape(4,28,28), cmap='gray')"
   ]
  },
  {
   "cell_type": "code",
   "execution_count": 55,
   "metadata": {},
   "outputs": [
    {
     "data": {
      "image/png": "[encoded data removed]",
      "text/plain": [
       "<matplotlib.figure.Figure at 0x7fd66dd91550>"
      ]
     },
     "metadata": {},
     "output_type": "display_data"
    }
   ],
   "source": [
    "plot_multi(train_x[20:25].reshape(-1,28,28)/256, cmap='gray')"
   ]
  },
  {
   "cell_type": "code",
   "execution_count": 51,
   "metadata": {},
   "outputs": [
    {
     "data": {
      "text/plain": [
       "array([[[ 0.        ,  0.        ,  0.        ,  0.        ,  0.        ,\n",
       "          0.        ,  0.        ,  0.        ,  0.        ,  0.        ,\n",
       "          0.        ,  0.        ,  0.        ,  0.        ,  0.        ,\n",
       "          0.        ,  0.        ,  0.        ,  0.        ,  0.        ,\n",
       "          0.        ,  0.        ,  0.        ,  0.        ,  0.        ,\n",
       "          0.        ,  0.        ,  0.        ],\n",
       "        [ 0.        ,  0.        ,  0.        ,  0.        ,  0.        ,\n",
       "          0.        ,  0.        ,  0.        ,  0.        ,  0.        ,\n",
       "          0.        ,  0.        ,  0.        ,  0.        ,  0.        ,\n",
       "          0.        ,  0.        ,  0.        ,  0.        ,  0.        ,\n",
       "          0.        ,  0.        ,  0.        ,  0.        ,  0.        ,\n",
       "          0.        ,  0.        ,  0.        ],\n",
       "        [ 0.        ,  0.        ,  0.        ,  0.        ,  0.        ,\n",
       "          0.        ,  0.        ,  0.        ,  0.        ,  0.        ,\n",
       "          0.        ,  0.        ,  0.        ,  0.        ,  0.        ,\n",
       "          0.        ,  0.        ,  0.        ,  0.        ,  0.        ,\n",
       "          0.        ,  0.        ,  0.        ,  0.        ,  0.        ,\n",
       "          0.        ,  0.        ,  0.        ],\n",
       "        [ 0.        ,  0.        ,  0.        ,  0.        ,  0.        ,\n",
       "          0.        ,  0.        ,  0.        ,  0.        ,  0.        ,\n",
       "          0.        ,  0.        ,  0.        ,  0.        ,  0.        ,\n",
       "          0.        ,  0.        ,  0.        ,  0.        ,  0.        ,\n",
       "          0.        ,  0.        ,  0.        ,  0.        ,  0.        ,\n",
       "          0.        ,  0.        ,  0.        ],\n",
       "        [ 0.        ,  0.        ,  0.        ,  0.        ,  0.        ,\n",
       "          0.        ,  0.        ,  0.        ,  0.        ,  0.        ,\n",
       "          0.        ,  0.        ,  0.        ,  0.        ,  0.        ,\n",
       "          0.        ,  0.        ,  0.        ,  0.        ,  0.        ,\n",
       "          0.        ,  0.        ,  0.        ,  0.        ,  0.        ,\n",
       "          0.        ,  0.        ,  0.        ],\n",
       "        [ 0.        ,  0.        ,  0.        ,  0.        ,  0.        ,\n",
       "          0.        ,  0.        ,  0.        ,  0.        ,  0.        ,\n",
       "          0.        ,  0.        ,  0.01176471,  0.07058824,  0.07058824,\n",
       "          0.07058824,  0.49411765,  0.53333333,  0.68627451,  0.10196078,\n",
       "          0.65098039,  1.        ,  0.96862745,  0.49803922,  0.        ,\n",
       "          0.        ,  0.        ,  0.        ],\n",
       "        [ 0.        ,  0.        ,  0.        ,  0.        ,  0.        ,\n",
       "          0.        ,  0.        ,  0.        ,  0.11764706,  0.14117647,\n",
       "          0.36862745,  0.60392157,  0.66666667,  0.99215686,  0.99215686,\n",
       "          0.99215686,  0.99215686,  0.99215686,  0.88235294,  0.6745098 ,\n",
       "          0.99215686,  0.94901961,  0.76470588,  0.25098039,  0.        ,\n",
       "          0.        ,  0.        ,  0.        ],\n",
       "        [ 0.        ,  0.        ,  0.        ,  0.        ,  0.        ,\n",
       "          0.        ,  0.        ,  0.19215686,  0.93333333,  0.99215686,\n",
       "          0.99215686,  0.99215686,  0.99215686,  0.99215686,  0.99215686,\n",
       "          0.99215686,  0.99215686,  0.98431373,  0.36470588,  0.32156863,\n",
       "          0.32156863,  0.21960784,  0.15294118,  0.        ,  0.        ,\n",
       "          0.        ,  0.        ,  0.        ],\n",
       "        [ 0.        ,  0.        ,  0.        ,  0.        ,  0.        ,\n",
       "          0.        ,  0.        ,  0.07058824,  0.85882353,  0.99215686,\n",
       "          0.99215686,  0.99215686,  0.99215686,  0.99215686,  0.77647059,\n",
       "          0.71372549,  0.96862745,  0.94509804,  0.        ,  0.        ,\n",
       "          0.        ,  0.        ,  0.        ,  0.        ,  0.        ,\n",
       "          0.        ,  0.        ,  0.        ],\n",
       "        [ 0.        ,  0.        ,  0.        ,  0.        ,  0.        ,\n",
       "          0.        ,  0.        ,  0.        ,  0.31372549,  0.61176471,\n",
       "          0.41960784,  0.99215686,  0.99215686,  0.80392157,  0.04313725,\n",
       "          0.        ,  0.16862745,  0.60392157,  0.        ,  0.        ,\n",
       "          0.        ,  0.        ,  0.        ,  0.        ,  0.        ,\n",
       "          0.        ,  0.        ,  0.        ],\n",
       "        [ 0.        ,  0.        ,  0.        ,  0.        ,  0.        ,\n",
       "          0.        ,  0.        ,  0.        ,  0.        ,  0.05490196,\n",
       "          0.00392157,  0.60392157,  0.99215686,  0.35294118,  0.        ,\n",
       "          0.        ,  0.        ,  0.        ,  0.        ,  0.        ,\n",
       "          0.        ,  0.        ,  0.        ,  0.        ,  0.        ,\n",
       "          0.        ,  0.        ,  0.        ],\n",
       "        [ 0.        ,  0.        ,  0.        ,  0.        ,  0.        ,\n",
       "          0.        ,  0.        ,  0.        ,  0.        ,  0.        ,\n",
       "          0.        ,  0.54509804,  0.99215686,  0.74509804,  0.00784314,\n",
       "          0.        ,  0.        ,  0.        ,  0.        ,  0.        ,\n",
       "          0.        ,  0.        ,  0.        ,  0.        ,  0.        ,\n",
       "          0.        ,  0.        ,  0.        ],\n",
       "        [ 0.        ,  0.        ,  0.        ,  0.        ,  0.        ,\n",
       "          0.        ,  0.        ,  0.        ,  0.        ,  0.        ,\n",
       "          0.        ,  0.04313725,  0.74509804,  0.99215686,  0.2745098 ,\n",
       "          0.        ,  0.        ,  0.        ,  0.        ,  0.        ,\n",
       "          0.        ,  0.        ,  0.        ,  0.        ,  0.        ,\n",
       "          0.        ,  0.        ,  0.        ],\n",
       "        [ 0.        ,  0.        ,  0.        ,  0.        ,  0.        ,\n",
       "          0.        ,  0.        ,  0.        ,  0.        ,  0.        ,\n",
       "          0.        ,  0.        ,  0.1372549 ,  0.94509804,  0.88235294,\n",
       "          0.62745098,  0.42352941,  0.00392157,  0.        ,  0.        ,\n",
       "          0.        ,  0.        ,  0.        ,  0.        ,  0.        ,\n",
       "          0.        ,  0.        ,  0.        ],\n",
       "        [ 0.        ,  0.        ,  0.        ,  0.        ,  0.        ,\n",
       "          0.        ,  0.        ,  0.        ,  0.        ,  0.        ,\n",
       "          0.        ,  0.        ,  0.        ,  0.31764706,  0.94117647,\n",
       "          0.99215686,  0.99215686,  0.46666667,  0.09803922,  0.        ,\n",
       "          0.        ,  0.        ,  0.        ,  0.        ,  0.        ,\n",
       "          0.        ,  0.        ,  0.        ],\n",
       "        [ 0.        ,  0.        ,  0.        ,  0.        ,  0.        ,\n",
       "          0.        ,  0.        ,  0.        ,  0.        ,  0.        ,\n",
       "          0.        ,  0.        ,  0.        ,  0.        ,  0.17647059,\n",
       "          0.72941176,  0.99215686,  0.99215686,  0.58823529,  0.10588235,\n",
       "          0.        ,  0.        ,  0.        ,  0.        ,  0.        ,\n",
       "          0.        ,  0.        ,  0.        ],\n",
       "        [ 0.        ,  0.        ,  0.        ,  0.        ,  0.        ,\n",
       "          0.        ,  0.        ,  0.        ,  0.        ,  0.        ,\n",
       "          0.        ,  0.        ,  0.        ,  0.        ,  0.        ,\n",
       "          0.0627451 ,  0.36470588,  0.98823529,  0.99215686,  0.73333333,\n",
       "          0.        ,  0.        ,  0.        ,  0.        ,  0.        ,\n",
       "          0.        ,  0.        ,  0.        ],\n",
       "        [ 0.        ,  0.        ,  0.        ,  0.        ,  0.        ,\n",
       "          0.        ,  0.        ,  0.        ,  0.        ,  0.        ,\n",
       "          0.        ,  0.        ,  0.        ,  0.        ,  0.        ,\n",
       "          0.        ,  0.        ,  0.97647059,  0.99215686,  0.97647059,\n",
       "          0.25098039,  0.        ,  0.        ,  0.        ,  0.        ,\n",
       "          0.        ,  0.        ,  0.        ],\n",
       "        [ 0.        ,  0.        ,  0.        ,  0.        ,  0.        ,\n",
       "          0.        ,  0.        ,  0.        ,  0.        ,  0.        ,\n",
       "          0.        ,  0.        ,  0.        ,  0.        ,  0.18039216,\n",
       "          0.50980392,  0.71764706,  0.99215686,  0.99215686,  0.81176471,\n",
       "          0.00784314,  0.        ,  0.        ,  0.        ,  0.        ,\n",
       "          0.        ,  0.        ,  0.        ],\n",
       "        [ 0.        ,  0.        ,  0.        ,  0.        ,  0.        ,\n",
       "          0.        ,  0.        ,  0.        ,  0.        ,  0.        ,\n",
       "          0.        ,  0.        ,  0.15294118,  0.58039216,  0.89803922,\n",
       "          0.99215686,  0.99215686,  0.99215686,  0.98039216,  0.71372549,\n",
       "          0.        ,  0.        ,  0.        ,  0.        ,  0.        ,\n",
       "          0.        ,  0.        ,  0.        ],\n",
       "        [ 0.        ,  0.        ,  0.        ,  0.        ,  0.        ,\n",
       "          0.        ,  0.        ,  0.        ,  0.        ,  0.        ,\n",
       "          0.09411765,  0.44705882,  0.86666667,  0.99215686,  0.99215686,\n",
       "          0.99215686,  0.99215686,  0.78823529,  0.30588235,  0.        ,\n",
       "          0.        ,  0.        ,  0.        ,  0.        ,  0.        ,\n",
       "          0.        ,  0.        ,  0.        ],\n",
       "        [ 0.        ,  0.        ,  0.        ,  0.        ,  0.        ,\n",
       "          0.        ,  0.        ,  0.        ,  0.09019608,  0.25882353,\n",
       "          0.83529412,  0.99215686,  0.99215686,  0.99215686,  0.99215686,\n",
       "          0.77647059,  0.31764706,  0.00784314,  0.        ,  0.        ,\n",
       "          0.        ,  0.        ,  0.        ,  0.        ,  0.        ,\n",
       "          0.        ,  0.        ,  0.        ],\n",
       "        [ 0.        ,  0.        ,  0.        ,  0.        ,  0.        ,\n",
       "          0.        ,  0.07058824,  0.67058824,  0.85882353,  0.99215686,\n",
       "          0.99215686,  0.99215686,  0.99215686,  0.76470588,  0.31372549,\n",
       "          0.03529412,  0.        ,  0.        ,  0.        ,  0.        ,\n",
       "          0.        ,  0.        ,  0.        ,  0.        ,  0.        ,\n",
       "          0.        ,  0.        ,  0.        ],\n",
       "        [ 0.        ,  0.        ,  0.        ,  0.        ,  0.21568627,\n",
       "          0.6745098 ,  0.88627451,  0.99215686,  0.99215686,  0.99215686,\n",
       "          0.99215686,  0.95686275,  0.52156863,  0.04313725,  0.        ,\n",
       "          0.        ,  0.        ,  0.        ,  0.        ,  0.        ,\n",
       "          0.        ,  0.        ,  0.        ,  0.        ,  0.        ,\n",
       "          0.        ,  0.        ,  0.        ],\n",
       "        [ 0.        ,  0.        ,  0.        ,  0.        ,  0.53333333,\n",
       "          0.99215686,  0.99215686,  0.99215686,  0.83137255,  0.52941176,\n",
       "          0.51764706,  0.0627451 ,  0.        ,  0.        ,  0.        ,\n",
       "          0.        ,  0.        ,  0.        ,  0.        ,  0.        ,\n",
       "          0.        ,  0.        ,  0.        ,  0.        ,  0.        ,\n",
       "          0.        ,  0.        ,  0.        ],\n",
       "        [ 0.        ,  0.        ,  0.        ,  0.        ,  0.        ,\n",
       "          0.        ,  0.        ,  0.        ,  0.        ,  0.        ,\n",
       "          0.        ,  0.        ,  0.        ,  0.        ,  0.        ,\n",
       "          0.        ,  0.        ,  0.        ,  0.        ,  0.        ,\n",
       "          0.        ,  0.        ,  0.        ,  0.        ,  0.        ,\n",
       "          0.        ,  0.        ,  0.        ],\n",
       "        [ 0.        ,  0.        ,  0.        ,  0.        ,  0.        ,\n",
       "          0.        ,  0.        ,  0.        ,  0.        ,  0.        ,\n",
       "          0.        ,  0.        ,  0.        ,  0.        ,  0.        ,\n",
       "          0.        ,  0.        ,  0.        ,  0.        ,  0.        ,\n",
       "          0.        ,  0.        ,  0.        ,  0.        ,  0.        ,\n",
       "          0.        ,  0.        ,  0.        ],\n",
       "        [ 0.        ,  0.        ,  0.        ,  0.        ,  0.        ,\n",
       "          0.        ,  0.        ,  0.        ,  0.        ,  0.        ,\n",
       "          0.        ,  0.        ,  0.        ,  0.        ,  0.        ,\n",
       "          0.        ,  0.        ,  0.        ,  0.        ,  0.        ,\n",
       "          0.        ,  0.        ,  0.        ,  0.        ,  0.        ,\n",
       "          0.        ,  0.        ,  0.        ]],\n",
       "\n",
       "       [[ 0.        ,  0.        ,  0.        ,  0.        ,  0.        ,\n",
       "          0.        ,  0.        ,  0.        ,  0.        ,  0.        ,\n",
       "          0.        ,  0.        ,  0.        ,  0.        ,  0.        ,\n",
       "          0.        ,  0.        ,  0.        ,  0.        ,  0.        ,\n",
       "          0.        ,  0.        ,  0.        ,  0.        ,  0.        ,\n",
       "          0.        ,  0.        ,  0.        ],\n",
       "        [ 0.        ,  0.        ,  0.        ,  0.        ,  0.        ,\n",
       "          0.        ,  0.        ,  0.        ,  0.        ,  0.        ,\n",
       "          0.        ,  0.        ,  0.        ,  0.        ,  0.        ,\n",
       "          0.        ,  0.        ,  0.        ,  0.        ,  0.        ,\n",
       "          0.        ,  0.        ,  0.        ,  0.        ,  0.        ,\n",
       "          0.        ,  0.        ,  0.        ],\n",
       "        [ 0.        ,  0.        ,  0.        ,  0.        ,  0.        ,\n",
       "          0.        ,  0.        ,  0.        ,  0.        ,  0.        ,\n",
       "          0.        ,  0.        ,  0.        ,  0.        ,  0.        ,\n",
       "          0.        ,  0.        ,  0.        ,  0.        ,  0.        ,\n",
       "          0.        ,  0.        ,  0.        ,  0.        ,  0.        ,\n",
       "          0.        ,  0.        ,  0.        ],\n",
       "        [ 0.        ,  0.        ,  0.        ,  0.        ,  0.        ,\n",
       "          0.        ,  0.        ,  0.        ,  0.        ,  0.        ,\n",
       "          0.        ,  0.        ,  0.        ,  0.        ,  0.        ,\n",
       "          0.        ,  0.        ,  0.        ,  0.        ,  0.        ,\n",
       "          0.        ,  0.        ,  0.        ,  0.        ,  0.        ,\n",
       "          0.        ,  0.        ,  0.        ],\n",
       "        [ 0.        ,  0.        ,  0.        ,  0.        ,  0.        ,\n",
       "          0.        ,  0.        ,  0.        ,  0.        ,  0.        ,\n",
       "          0.        ,  0.        ,  0.        ,  0.        ,  0.        ,\n",
       "          0.2       ,  0.62352941,  0.99215686,  0.62352941,  0.19607843,\n",
       "          0.        ,  0.        ,  0.        ,  0.        ,  0.        ,\n",
       "          0.        ,  0.        ,  0.        ],\n",
       "        [ 0.        ,  0.        ,  0.        ,  0.        ,  0.        ,\n",
       "          0.        ,  0.        ,  0.        ,  0.        ,  0.        ,\n",
       "          0.        ,  0.        ,  0.        ,  0.        ,  0.18823529,\n",
       "          0.93333333,  0.98823529,  0.98823529,  0.98823529,  0.92941176,\n",
       "          0.        ,  0.        ,  0.        ,  0.        ,  0.        ,\n",
       "          0.        ,  0.        ,  0.        ],\n",
       "        [ 0.        ,  0.        ,  0.        ,  0.        ,  0.        ,\n",
       "          0.        ,  0.        ,  0.        ,  0.        ,  0.        ,\n",
       "          0.        ,  0.        ,  0.        ,  0.21176471,  0.89019608,\n",
       "          0.99215686,  0.98823529,  0.9372549 ,  0.91372549,  0.98823529,\n",
       "          0.22352941,  0.02352941,  0.        ,  0.        ,  0.        ,\n",
       "          0.        ,  0.        ,  0.        ],\n",
       "        [ 0.        ,  0.        ,  0.        ,  0.        ,  0.        ,\n",
       "          0.        ,  0.        ,  0.        ,  0.        ,  0.        ,\n",
       "          0.        ,  0.03921569,  0.23529412,  0.87843137,  0.98823529,\n",
       "          0.99215686,  0.98823529,  0.79215686,  0.32941176,  0.98823529,\n",
       "          0.99215686,  0.47843137,  0.        ,  0.        ,  0.        ,\n",
       "          0.        ,  0.        ,  0.        ],\n",
       "        [ 0.        ,  0.        ,  0.        ,  0.        ,  0.        ,\n",
       "          0.        ,  0.        ,  0.        ,  0.        ,  0.        ,\n",
       "          0.        ,  0.63921569,  0.98823529,  0.98823529,  0.98823529,\n",
       "          0.99215686,  0.98823529,  0.98823529,  0.37647059,  0.74117647,\n",
       "          0.99215686,  0.65490196,  0.        ,  0.        ,  0.        ,\n",
       "          0.        ,  0.        ,  0.        ],\n",
       "        [ 0.        ,  0.        ,  0.        ,  0.        ,  0.        ,\n",
       "          0.        ,  0.        ,  0.        ,  0.        ,  0.        ,\n",
       "          0.2       ,  0.93333333,  0.99215686,  0.99215686,  0.74509804,\n",
       "          0.44705882,  0.99215686,  0.89411765,  0.18431373,  0.30980392,\n",
       "          1.        ,  0.65882353,  0.        ,  0.        ,  0.        ,\n",
       "          0.        ,  0.        ,  0.        ],\n",
       "        [ 0.        ,  0.        ,  0.        ,  0.        ,  0.        ,\n",
       "          0.        ,  0.        ,  0.        ,  0.        ,  0.18823529,\n",
       "          0.93333333,  0.98823529,  0.98823529,  0.70196078,  0.04705882,\n",
       "          0.29411765,  0.4745098 ,  0.08235294,  0.        ,  0.        ,\n",
       "          0.99215686,  0.95294118,  0.19607843,  0.        ,  0.        ,\n",
       "          0.        ,  0.        ,  0.        ],\n",
       "        [ 0.        ,  0.        ,  0.        ,  0.        ,  0.        ,\n",
       "          0.        ,  0.        ,  0.        ,  0.14901961,  0.64705882,\n",
       "          0.99215686,  0.91372549,  0.81568627,  0.32941176,  0.        ,\n",
       "          0.        ,  0.        ,  0.        ,  0.        ,  0.        ,\n",
       "          0.99215686,  0.98823529,  0.64705882,  0.        ,  0.        ,\n",
       "          0.        ,  0.        ,  0.        ],\n",
       "        [ 0.        ,  0.        ,  0.        ,  0.        ,  0.        ,\n",
       "          0.        ,  0.        ,  0.02745098,  0.69803922,  0.98823529,\n",
       "          0.94117647,  0.27843137,  0.0745098 ,  0.10980392,  0.        ,\n",
       "          0.        ,  0.        ,  0.        ,  0.        ,  0.        ,\n",
       "          0.99215686,  0.98823529,  0.76470588,  0.        ,  0.        ,\n",
       "          0.        ,  0.        ,  0.        ],\n",
       "        [ 0.        ,  0.        ,  0.        ,  0.        ,  0.        ,\n",
       "          0.        ,  0.        ,  0.22352941,  0.98823529,  0.98823529,\n",
       "          0.24705882,  0.        ,  0.        ,  0.        ,  0.        ,\n",
       "          0.        ,  0.        ,  0.        ,  0.        ,  0.        ,\n",
       "          0.99215686,  0.98823529,  0.76470588,  0.        ,  0.        ,\n",
       "          0.        ,  0.        ,  0.        ],\n",
       "        [ 0.        ,  0.        ,  0.        ,  0.        ,  0.        ,\n",
       "          0.        ,  0.        ,  0.77647059,  0.99215686,  0.74509804,\n",
       "          0.        ,  0.        ,  0.        ,  0.        ,  0.        ,\n",
       "          0.        ,  0.        ,  0.        ,  0.        ,  0.        ,\n",
       "          1.        ,  0.99215686,  0.76862745,  0.        ,  0.        ,\n",
       "          0.        ,  0.        ,  0.        ],\n",
       "        [ 0.        ,  0.        ,  0.        ,  0.        ,  0.        ,\n",
       "          0.        ,  0.29803922,  0.96470588,  0.98823529,  0.43921569,\n",
       "          0.        ,  0.        ,  0.        ,  0.        ,  0.        ,\n",
       "          0.        ,  0.        ,  0.        ,  0.        ,  0.        ,\n",
       "          0.99215686,  0.98823529,  0.58039216,  0.        ,  0.        ,\n",
       "          0.        ,  0.        ,  0.        ],\n",
       "        [ 0.        ,  0.        ,  0.        ,  0.        ,  0.        ,\n",
       "          0.        ,  0.33333333,  0.98823529,  0.90196078,  0.09803922,\n",
       "          0.        ,  0.        ,  0.        ,  0.        ,  0.        ,\n",
       "          0.        ,  0.        ,  0.        ,  0.02745098,  0.52941176,\n",
       "          0.99215686,  0.72941176,  0.04705882,  0.        ,  0.        ,\n",
       "          0.        ,  0.        ,  0.        ],\n",
       "        [ 0.        ,  0.        ,  0.        ,  0.        ,  0.        ,\n",
       "          0.        ,  0.33333333,  0.98823529,  0.8745098 ,  0.        ,\n",
       "          0.        ,  0.        ,  0.        ,  0.        ,  0.        ,\n",
       "          0.        ,  0.        ,  0.02745098,  0.51372549,  0.98823529,\n",
       "          0.88235294,  0.27843137,  0.        ,  0.        ,  0.        ,\n",
       "          0.        ,  0.        ,  0.        ],\n",
       "        [ 0.        ,  0.        ,  0.        ,  0.        ,  0.        ,\n",
       "          0.        ,  0.33333333,  0.98823529,  0.56862745,  0.        ,\n",
       "          0.        ,  0.        ,  0.        ,  0.        ,  0.        ,\n",
       "          0.        ,  0.18823529,  0.64705882,  0.98823529,  0.67843137,\n",
       "          0.        ,  0.        ,  0.        ,  0.        ,  0.        ,\n",
       "          0.        ,  0.        ,  0.        ],\n",
       "        [ 0.        ,  0.        ,  0.        ,  0.        ,  0.        ,\n",
       "          0.        ,  0.3372549 ,  0.99215686,  0.88235294,  0.        ,\n",
       "          0.        ,  0.        ,  0.        ,  0.        ,  0.        ,\n",
       "          0.44705882,  0.93333333,  0.99215686,  0.63529412,  0.        ,\n",
       "          0.        ,  0.        ,  0.        ,  0.        ,  0.        ,\n",
       "          0.        ,  0.        ,  0.        ],\n",
       "        [ 0.        ,  0.        ,  0.        ,  0.        ,  0.        ,\n",
       "          0.        ,  0.33333333,  0.98823529,  0.97647059,  0.57254902,\n",
       "          0.18823529,  0.11372549,  0.33333333,  0.69803922,  0.88235294,\n",
       "          0.99215686,  0.8745098 ,  0.65490196,  0.21960784,  0.        ,\n",
       "          0.        ,  0.        ,  0.        ,  0.        ,  0.        ,\n",
       "          0.        ,  0.        ,  0.        ],\n",
       "        [ 0.        ,  0.        ,  0.        ,  0.        ,  0.        ,\n",
       "          0.        ,  0.33333333,  0.98823529,  0.98823529,  0.98823529,\n",
       "          0.89803922,  0.84313725,  0.98823529,  0.98823529,  0.98823529,\n",
       "          0.76862745,  0.50980392,  0.        ,  0.        ,  0.        ,\n",
       "          0.        ,  0.        ,  0.        ,  0.        ,  0.        ,\n",
       "          0.        ,  0.        ,  0.        ],\n",
       "        [ 0.        ,  0.        ,  0.        ,  0.        ,  0.        ,\n",
       "          0.        ,  0.10980392,  0.78039216,  0.98823529,  0.98823529,\n",
       "          0.99215686,  0.98823529,  0.98823529,  0.91372549,  0.56862745,\n",
       "          0.        ,  0.        ,  0.        ,  0.        ,  0.        ,\n",
       "          0.        ,  0.        ,  0.        ,  0.        ,  0.        ,\n",
       "          0.        ,  0.        ,  0.        ],\n",
       "        [ 0.        ,  0.        ,  0.        ,  0.        ,  0.        ,\n",
       "          0.        ,  0.        ,  0.09803922,  0.50196078,  0.98823529,\n",
       "          0.99215686,  0.98823529,  0.55294118,  0.14509804,  0.        ,\n",
       "          0.        ,  0.        ,  0.        ,  0.        ,  0.        ,\n",
       "          0.        ,  0.        ,  0.        ,  0.        ,  0.        ,\n",
       "          0.        ,  0.        ,  0.        ],\n",
       "        [ 0.        ,  0.        ,  0.        ,  0.        ,  0.        ,\n",
       "          0.        ,  0.        ,  0.        ,  0.        ,  0.        ,\n",
       "          0.        ,  0.        ,  0.        ,  0.        ,  0.        ,\n",
       "          0.        ,  0.        ,  0.        ,  0.        ,  0.        ,\n",
       "          0.        ,  0.        ,  0.        ,  0.        ,  0.        ,\n",
       "          0.        ,  0.        ,  0.        ],\n",
       "        [ 0.        ,  0.        ,  0.        ,  0.        ,  0.        ,\n",
       "          0.        ,  0.        ,  0.        ,  0.        ,  0.        ,\n",
       "          0.        ,  0.        ,  0.        ,  0.        ,  0.        ,\n",
       "          0.        ,  0.        ,  0.        ,  0.        ,  0.        ,\n",
       "          0.        ,  0.        ,  0.        ,  0.        ,  0.        ,\n",
       "          0.        ,  0.        ,  0.        ],\n",
       "        [ 0.        ,  0.        ,  0.        ,  0.        ,  0.        ,\n",
       "          0.        ,  0.        ,  0.        ,  0.        ,  0.        ,\n",
       "          0.        ,  0.        ,  0.        ,  0.        ,  0.        ,\n",
       "          0.        ,  0.        ,  0.        ,  0.        ,  0.        ,\n",
       "          0.        ,  0.        ,  0.        ,  0.        ,  0.        ,\n",
       "          0.        ,  0.        ,  0.        ],\n",
       "        [ 0.        ,  0.        ,  0.        ,  0.        ,  0.        ,\n",
       "          0.        ,  0.        ,  0.        ,  0.        ,  0.        ,\n",
       "          0.        ,  0.        ,  0.        ,  0.        ,  0.        ,\n",
       "          0.        ,  0.        ,  0.        ,  0.        ,  0.        ,\n",
       "          0.        ,  0.        ,  0.        ,  0.        ,  0.        ,\n",
       "          0.        ,  0.        ,  0.        ]],\n",
       "\n",
       "       [[ 0.        ,  0.        ,  0.        ,  0.        ,  0.        ,\n",
       "          0.        ,  0.        ,  0.        ,  0.        ,  0.        ,\n",
       "          0.        ,  0.        ,  0.        ,  0.        ,  0.        ,\n",
       "          0.        ,  0.        ,  0.        ,  0.        ,  0.        ,\n",
       "          0.        ,  0.        ,  0.        ,  0.        ,  0.        ,\n",
       "          0.        ,  0.        ,  0.        ],\n",
       "        [ 0.        ,  0.        ,  0.        ,  0.        ,  0.        ,\n",
       "          0.        ,  0.        ,  0.        ,  0.        ,  0.        ,\n",
       "          0.        ,  0.        ,  0.        ,  0.        ,  0.        ,\n",
       "          0.        ,  0.        ,  0.        ,  0.        ,  0.        ,\n",
       "          0.        ,  0.        ,  0.        ,  0.        ,  0.        ,\n",
       "          0.        ,  0.        ,  0.        ],\n",
       "        [ 0.        ,  0.        ,  0.        ,  0.        ,  0.        ,\n",
       "          0.        ,  0.        ,  0.        ,  0.        ,  0.        ,\n",
       "          0.        ,  0.        ,  0.        ,  0.        ,  0.        ,\n",
       "          0.        ,  0.        ,  0.        ,  0.        ,  0.        ,\n",
       "          0.        ,  0.        ,  0.        ,  0.        ,  0.        ,\n",
       "          0.        ,  0.        ,  0.        ],\n",
       "        [ 0.        ,  0.        ,  0.        ,  0.        ,  0.        ,\n",
       "          0.        ,  0.        ,  0.        ,  0.        ,  0.        ,\n",
       "          0.        ,  0.        ,  0.        ,  0.        ,  0.        ,\n",
       "          0.        ,  0.        ,  0.        ,  0.        ,  0.        ,\n",
       "          0.        ,  0.        ,  0.        ,  0.        ,  0.        ,\n",
       "          0.        ,  0.        ,  0.        ],\n",
       "        [ 0.        ,  0.        ,  0.        ,  0.        ,  0.        ,\n",
       "          0.        ,  0.        ,  0.        ,  0.        ,  0.        ,\n",
       "          0.        ,  0.        ,  0.        ,  0.        ,  0.        ,\n",
       "          0.        ,  0.        ,  0.        ,  0.        ,  0.        ,\n",
       "          0.        ,  0.        ,  0.        ,  0.        ,  0.        ,\n",
       "          0.        ,  0.        ,  0.        ],\n",
       "        [ 0.        ,  0.        ,  0.        ,  0.        ,  0.        ,\n",
       "          0.        ,  0.        ,  0.        ,  0.        ,  0.        ,\n",
       "          0.        ,  0.        ,  0.        ,  0.        ,  0.        ,\n",
       "          0.        ,  0.        ,  0.        ,  0.        ,  0.        ,\n",
       "          0.2627451 ,  0.90980392,  0.15294118,  0.        ,  0.        ,\n",
       "          0.        ,  0.        ,  0.        ],\n",
       "        [ 0.        ,  0.        ,  0.        ,  0.        ,  0.24313725,\n",
       "          0.31764706,  0.        ,  0.        ,  0.        ,  0.        ,\n",
       "          0.        ,  0.        ,  0.        ,  0.        ,  0.        ,\n",
       "          0.        ,  0.        ,  0.        ,  0.        ,  0.        ,\n",
       "          0.47058824,  0.70588235,  0.15294118,  0.        ,  0.        ,\n",
       "          0.        ,  0.        ,  0.        ],\n",
       "        [ 0.        ,  0.        ,  0.        ,  0.        ,  0.49411765,\n",
       "          0.63921569,  0.        ,  0.        ,  0.        ,  0.        ,\n",
       "          0.        ,  0.        ,  0.        ,  0.        ,  0.        ,\n",
       "          0.        ,  0.        ,  0.        ,  0.        ,  0.00784314,\n",
       "          0.6       ,  0.82352941,  0.15686275,  0.        ,  0.        ,\n",
       "          0.        ,  0.        ,  0.        ],\n",
       "        [ 0.        ,  0.        ,  0.        ,  0.        ,  0.8627451 ,\n",
       "          0.63921569,  0.        ,  0.        ,  0.        ,  0.        ,\n",
       "          0.        ,  0.        ,  0.        ,  0.        ,  0.        ,\n",
       "          0.        ,  0.        ,  0.        ,  0.        ,  0.10588235,\n",
       "          0.99607843,  0.63529412,  0.        ,  0.        ,  0.        ,\n",
       "          0.        ,  0.        ,  0.        ],\n",
       "        [ 0.        ,  0.        ,  0.        ,  0.        ,  0.87058824,\n",
       "          0.63921569,  0.        ,  0.        ,  0.        ,  0.        ,\n",
       "          0.        ,  0.        ,  0.        ,  0.        ,  0.        ,\n",
       "          0.        ,  0.        ,  0.        ,  0.        ,  0.71764706,\n",
       "          0.99607843,  0.49019608,  0.        ,  0.        ,  0.        ,\n",
       "          0.        ,  0.        ,  0.        ],\n",
       "        [ 0.        ,  0.        ,  0.        ,  0.18039216,  0.96078431,\n",
       "          0.63921569,  0.        ,  0.        ,  0.        ,  0.        ,\n",
       "          0.        ,  0.        ,  0.        ,  0.        ,  0.        ,\n",
       "          0.        ,  0.        ,  0.        ,  0.        ,  0.77647059,\n",
       "          0.99607843,  0.21960784,  0.        ,  0.        ,  0.        ,\n",
       "          0.        ,  0.        ,  0.        ],\n",
       "        [ 0.        ,  0.        ,  0.        ,  0.47058824,  0.99607843,\n",
       "          0.63921569,  0.        ,  0.        ,  0.        ,  0.        ,\n",
       "          0.        ,  0.        ,  0.        ,  0.        ,  0.        ,\n",
       "          0.        ,  0.        ,  0.        ,  0.09019608,  0.90588235,\n",
       "          0.99607843,  0.11372549,  0.        ,  0.        ,  0.        ,\n",
       "          0.        ,  0.        ,  0.        ],\n",
       "        [ 0.        ,  0.        ,  0.        ,  0.62352941,  0.99607843,\n",
       "          0.47058824,  0.        ,  0.        ,  0.        ,  0.        ,\n",
       "          0.        ,  0.        ,  0.        ,  0.        ,  0.        ,\n",
       "          0.        ,  0.        ,  0.        ,  0.63921569,  0.99607843,\n",
       "          0.84705882,  0.0627451 ,  0.        ,  0.        ,  0.        ,\n",
       "          0.        ,  0.        ,  0.        ],\n",
       "        [ 0.        ,  0.        ,  0.        ,  0.62352941,  0.99607843,\n",
       "          0.2627451 ,  0.        ,  0.        ,  0.        ,  0.        ,\n",
       "          0.        ,  0.        ,  0.        ,  0.        ,  0.        ,\n",
       "          0.05490196,  0.3372549 ,  0.69803922,  0.97254902,  0.99607843,\n",
       "          0.35686275,  0.        ,  0.        ,  0.        ,  0.        ,\n",
       "          0.        ,  0.        ,  0.        ],\n",
       "        [ 0.        ,  0.        ,  0.        ,  0.62352941,  0.99607843,\n",
       "          0.33333333,  0.        ,  0.        ,  0.        ,  0.18431373,\n",
       "          0.19215686,  0.45490196,  0.56470588,  0.58823529,  0.94509804,\n",
       "          0.95294118,  0.91764706,  0.70196078,  0.94509804,  0.98823529,\n",
       "          0.15686275,  0.        ,  0.        ,  0.        ,  0.        ,\n",
       "          0.        ,  0.        ,  0.        ],\n",
       "        [ 0.        ,  0.        ,  0.        ,  0.58823529,  0.99215686,\n",
       "          0.92941176,  0.81176471,  0.81176471,  0.81176471,  0.99215686,\n",
       "          0.99607843,  0.98039216,  0.94117647,  0.77647059,  0.56078431,\n",
       "          0.35686275,  0.10980392,  0.01960784,  0.91372549,  0.98039216,\n",
       "          0.        ,  0.        ,  0.        ,  0.        ,  0.        ,\n",
       "          0.        ,  0.        ,  0.        ],\n",
       "        [ 0.        ,  0.        ,  0.        ,  0.        ,  0.46666667,\n",
       "          0.69411765,  0.69411765,  0.69411765,  0.69411765,  0.69411765,\n",
       "          0.38431373,  0.21960784,  0.        ,  0.        ,  0.        ,\n",
       "          0.        ,  0.        ,  0.4       ,  0.99607843,  0.8627451 ,\n",
       "          0.        ,  0.        ,  0.        ,  0.        ,  0.        ,\n",
       "          0.        ,  0.        ,  0.        ],\n",
       "        [ 0.        ,  0.        ,  0.        ,  0.        ,  0.        ,\n",
       "          0.        ,  0.        ,  0.        ,  0.        ,  0.        ,\n",
       "          0.        ,  0.        ,  0.        ,  0.        ,  0.        ,\n",
       "          0.        ,  0.        ,  0.6627451 ,  0.99607843,  0.5372549 ,\n",
       "          0.        ,  0.        ,  0.        ,  0.        ,  0.        ,\n",
       "          0.        ,  0.        ,  0.        ],\n",
       "        [ 0.        ,  0.        ,  0.        ,  0.        ,  0.        ,\n",
       "          0.        ,  0.        ,  0.        ,  0.        ,  0.        ,\n",
       "          0.        ,  0.        ,  0.        ,  0.        ,  0.        ,\n",
       "          0.        ,  0.        ,  0.6627451 ,  0.99607843,  0.22352941,\n",
       "          0.        ,  0.        ,  0.        ,  0.        ,  0.        ,\n",
       "          0.        ,  0.        ,  0.        ],\n",
       "        [ 0.        ,  0.        ,  0.        ,  0.        ,  0.        ,\n",
       "          0.        ,  0.        ,  0.        ,  0.        ,  0.        ,\n",
       "          0.        ,  0.        ,  0.        ,  0.        ,  0.        ,\n",
       "          0.        ,  0.        ,  0.6627451 ,  0.99607843,  0.22352941,\n",
       "          0.        ,  0.        ,  0.        ,  0.        ,  0.        ,\n",
       "          0.        ,  0.        ,  0.        ],\n",
       "        [ 0.        ,  0.        ,  0.        ,  0.        ,  0.        ,\n",
       "          0.        ,  0.        ,  0.        ,  0.        ,  0.        ,\n",
       "          0.        ,  0.        ,  0.        ,  0.        ,  0.        ,\n",
       "          0.        ,  0.        ,  0.6627451 ,  1.        ,  0.36862745,\n",
       "          0.        ,  0.        ,  0.        ,  0.        ,  0.        ,\n",
       "          0.        ,  0.        ,  0.        ],\n",
       "        [ 0.        ,  0.        ,  0.        ,  0.        ,  0.        ,\n",
       "          0.        ,  0.        ,  0.        ,  0.        ,  0.        ,\n",
       "          0.        ,  0.        ,  0.        ,  0.        ,  0.        ,\n",
       "          0.        ,  0.        ,  0.6627451 ,  0.99607843,  0.37647059,\n",
       "          0.        ,  0.        ,  0.        ,  0.        ,  0.        ,\n",
       "          0.        ,  0.        ,  0.        ],\n",
       "        [ 0.        ,  0.        ,  0.        ,  0.        ,  0.        ,\n",
       "          0.        ,  0.        ,  0.        ,  0.        ,  0.        ,\n",
       "          0.        ,  0.        ,  0.        ,  0.        ,  0.        ,\n",
       "          0.        ,  0.        ,  0.6627451 ,  0.99607843,  0.6       ,\n",
       "          0.        ,  0.        ,  0.        ,  0.        ,  0.        ,\n",
       "          0.        ,  0.        ,  0.        ],\n",
       "        [ 0.        ,  0.        ,  0.        ,  0.        ,  0.        ,\n",
       "          0.        ,  0.        ,  0.        ,  0.        ,  0.        ,\n",
       "          0.        ,  0.        ,  0.        ,  0.        ,  0.        ,\n",
       "          0.        ,  0.        ,  0.6627451 ,  1.        ,  0.6       ,\n",
       "          0.        ,  0.        ,  0.        ,  0.        ,  0.        ,\n",
       "          0.        ,  0.        ,  0.        ],\n",
       "        [ 0.        ,  0.        ,  0.        ,  0.        ,  0.        ,\n",
       "          0.        ,  0.        ,  0.        ,  0.        ,  0.        ,\n",
       "          0.        ,  0.        ,  0.        ,  0.        ,  0.        ,\n",
       "          0.        ,  0.        ,  0.37647059,  0.99607843,  0.6       ,\n",
       "          0.        ,  0.        ,  0.        ,  0.        ,  0.        ,\n",
       "          0.        ,  0.        ,  0.        ],\n",
       "        [ 0.        ,  0.        ,  0.        ,  0.        ,  0.        ,\n",
       "          0.        ,  0.        ,  0.        ,  0.        ,  0.        ,\n",
       "          0.        ,  0.        ,  0.        ,  0.        ,  0.        ,\n",
       "          0.        ,  0.        ,  0.        ,  0.        ,  0.        ,\n",
       "          0.        ,  0.        ,  0.        ,  0.        ,  0.        ,\n",
       "          0.        ,  0.        ,  0.        ],\n",
       "        [ 0.        ,  0.        ,  0.        ,  0.        ,  0.        ,\n",
       "          0.        ,  0.        ,  0.        ,  0.        ,  0.        ,\n",
       "          0.        ,  0.        ,  0.        ,  0.        ,  0.        ,\n",
       "          0.        ,  0.        ,  0.        ,  0.        ,  0.        ,\n",
       "          0.        ,  0.        ,  0.        ,  0.        ,  0.        ,\n",
       "          0.        ,  0.        ,  0.        ],\n",
       "        [ 0.        ,  0.        ,  0.        ,  0.        ,  0.        ,\n",
       "          0.        ,  0.        ,  0.        ,  0.        ,  0.        ,\n",
       "          0.        ,  0.        ,  0.        ,  0.        ,  0.        ,\n",
       "          0.        ,  0.        ,  0.        ,  0.        ,  0.        ,\n",
       "          0.        ,  0.        ,  0.        ,  0.        ,  0.        ,\n",
       "          0.        ,  0.        ,  0.        ]],\n",
       "\n",
       "       [[ 0.        ,  0.        ,  0.        ,  0.        ,  0.        ,\n",
       "          0.        ,  0.        ,  0.        ,  0.        ,  0.        ,\n",
       "          0.        ,  0.        ,  0.        ,  0.        ,  0.        ,\n",
       "          0.        ,  0.        ,  0.        ,  0.        ,  0.        ,\n",
       "          0.        ,  0.        ,  0.        ,  0.        ,  0.        ,\n",
       "          0.        ,  0.        ,  0.        ],\n",
       "        [ 0.        ,  0.        ,  0.        ,  0.        ,  0.        ,\n",
       "          0.        ,  0.        ,  0.        ,  0.        ,  0.        ,\n",
       "          0.        ,  0.        ,  0.        ,  0.        ,  0.        ,\n",
       "          0.        ,  0.        ,  0.        ,  0.        ,  0.        ,\n",
       "          0.        ,  0.        ,  0.        ,  0.        ,  0.        ,\n",
       "          0.        ,  0.        ,  0.        ],\n",
       "        [ 0.        ,  0.        ,  0.        ,  0.        ,  0.        ,\n",
       "          0.        ,  0.        ,  0.        ,  0.        ,  0.        ,\n",
       "          0.        ,  0.        ,  0.        ,  0.        ,  0.        ,\n",
       "          0.        ,  0.        ,  0.        ,  0.        ,  0.        ,\n",
       "          0.        ,  0.        ,  0.        ,  0.        ,  0.        ,\n",
       "          0.        ,  0.        ,  0.        ],\n",
       "        [ 0.        ,  0.        ,  0.        ,  0.        ,  0.        ,\n",
       "          0.        ,  0.        ,  0.        ,  0.        ,  0.        ,\n",
       "          0.        ,  0.        ,  0.        ,  0.        ,  0.        ,\n",
       "          0.        ,  0.        ,  0.        ,  0.        ,  0.        ,\n",
       "          0.        ,  0.        ,  0.        ,  0.        ,  0.        ,\n",
       "          0.        ,  0.        ,  0.        ],\n",
       "        [ 0.        ,  0.        ,  0.        ,  0.        ,  0.        ,\n",
       "          0.        ,  0.        ,  0.        ,  0.        ,  0.        ,\n",
       "          0.        ,  0.        ,  0.        ,  0.        ,  0.        ,\n",
       "          0.        ,  0.        ,  0.        ,  0.        ,  0.        ,\n",
       "          0.        ,  0.        ,  0.        ,  0.        ,  0.        ,\n",
       "          0.        ,  0.        ,  0.        ],\n",
       "        [ 0.        ,  0.        ,  0.        ,  0.        ,  0.        ,\n",
       "          0.        ,  0.        ,  0.        ,  0.        ,  0.        ,\n",
       "          0.        ,  0.        ,  0.        ,  0.        ,  0.        ,\n",
       "          0.        ,  0.        ,  0.        ,  0.48627451,  0.99215686,\n",
       "          1.        ,  0.24705882,  0.        ,  0.        ,  0.        ,\n",
       "          0.        ,  0.        ,  0.        ],\n",
       "        [ 0.        ,  0.        ,  0.        ,  0.        ,  0.        ,\n",
       "          0.        ,  0.        ,  0.        ,  0.        ,  0.        ,\n",
       "          0.        ,  0.        ,  0.        ,  0.        ,  0.        ,\n",
       "          0.        ,  0.        ,  0.37647059,  0.95686275,  0.98431373,\n",
       "          0.99215686,  0.24313725,  0.        ,  0.        ,  0.        ,\n",
       "          0.        ,  0.        ,  0.        ],\n",
       "        [ 0.        ,  0.        ,  0.        ,  0.        ,  0.        ,\n",
       "          0.        ,  0.        ,  0.        ,  0.        ,  0.        ,\n",
       "          0.        ,  0.        ,  0.        ,  0.        ,  0.        ,\n",
       "          0.        ,  0.        ,  0.49803922,  0.98431373,  0.98431373,\n",
       "          0.99215686,  0.24313725,  0.        ,  0.        ,  0.        ,\n",
       "          0.        ,  0.        ,  0.        ],\n",
       "        [ 0.        ,  0.        ,  0.        ,  0.        ,  0.        ,\n",
       "          0.        ,  0.        ,  0.        ,  0.        ,  0.        ,\n",
       "          0.        ,  0.        ,  0.        ,  0.        ,  0.        ,\n",
       "          0.        ,  0.26666667,  0.9254902 ,  0.98431373,  0.82745098,\n",
       "          0.12156863,  0.03137255,  0.        ,  0.        ,  0.        ,\n",
       "          0.        ,  0.        ,  0.        ],\n",
       "        [ 0.        ,  0.        ,  0.        ,  0.        ,  0.        ,\n",
       "          0.        ,  0.        ,  0.        ,  0.        ,  0.        ,\n",
       "          0.        ,  0.        ,  0.        ,  0.        ,  0.        ,\n",
       "          0.23529412,  0.89411765,  0.98431373,  0.98431373,  0.36862745,\n",
       "          0.        ,  0.        ,  0.        ,  0.        ,  0.        ,\n",
       "          0.        ,  0.        ,  0.        ],\n",
       "        [ 0.        ,  0.        ,  0.        ,  0.        ,  0.        ,\n",
       "          0.        ,  0.        ,  0.        ,  0.        ,  0.        ,\n",
       "          0.        ,  0.        ,  0.        ,  0.        ,  0.        ,\n",
       "          0.60784314,  0.99215686,  0.99215686,  0.74117647,  0.        ,\n",
       "          0.        ,  0.        ,  0.        ,  0.        ,  0.        ,\n",
       "          0.        ,  0.        ,  0.        ],\n",
       "        [ 0.        ,  0.        ,  0.        ,  0.        ,  0.        ,\n",
       "          0.        ,  0.        ,  0.        ,  0.        ,  0.        ,\n",
       "          0.        ,  0.        ,  0.        ,  0.        ,  0.07843137,\n",
       "          0.99215686,  0.98431373,  0.92156863,  0.25882353,  0.        ,\n",
       "          0.        ,  0.        ,  0.        ,  0.        ,  0.        ,\n",
       "          0.        ,  0.        ,  0.        ],\n",
       "        [ 0.        ,  0.        ,  0.        ,  0.        ,  0.        ,\n",
       "          0.        ,  0.        ,  0.        ,  0.        ,  0.        ,\n",
       "          0.        ,  0.        ,  0.        ,  0.1254902 ,  0.80392157,\n",
       "          0.99215686,  0.98431373,  0.49411765,  0.        ,  0.        ,\n",
       "          0.        ,  0.        ,  0.        ,  0.        ,  0.        ,\n",
       "          0.        ,  0.        ,  0.        ],\n",
       "        [ 0.        ,  0.        ,  0.        ,  0.        ,  0.        ,\n",
       "          0.        ,  0.        ,  0.        ,  0.        ,  0.        ,\n",
       "          0.        ,  0.        ,  0.        ,  0.40784314,  0.98431373,\n",
       "          0.99215686,  0.72156863,  0.05882353,  0.        ,  0.        ,\n",
       "          0.        ,  0.        ,  0.        ,  0.        ,  0.        ,\n",
       "          0.        ,  0.        ,  0.        ],\n",
       "        [ 0.        ,  0.        ,  0.        ,  0.        ,  0.        ,\n",
       "          0.        ,  0.        ,  0.        ,  0.        ,  0.        ,\n",
       "          0.        ,  0.        ,  0.31372549,  0.94117647,  0.98431373,\n",
       "          0.75686275,  0.09019608,  0.        ,  0.        ,  0.        ,\n",
       "          0.        ,  0.        ,  0.        ,  0.        ,  0.        ,\n",
       "          0.        ,  0.        ,  0.        ],\n",
       "        [ 0.        ,  0.        ,  0.        ,  0.        ,  0.        ,\n",
       "          0.        ,  0.        ,  0.        ,  0.        ,  0.        ,\n",
       "          0.        ,  0.1254902 ,  0.99215686,  0.99215686,  0.99215686,\n",
       "          0.62352941,  0.        ,  0.        ,  0.        ,  0.        ,\n",
       "          0.        ,  0.        ,  0.        ,  0.        ,  0.        ,\n",
       "          0.        ,  0.        ,  0.        ],\n",
       "        [ 0.        ,  0.        ,  0.        ,  0.        ,  0.        ,\n",
       "          0.        ,  0.        ,  0.        ,  0.        ,  0.        ,\n",
       "          0.        ,  0.59215686,  0.98431373,  0.98431373,  0.98431373,\n",
       "          0.15294118,  0.        ,  0.        ,  0.        ,  0.        ,\n",
       "          0.        ,  0.        ,  0.        ,  0.        ,  0.        ,\n",
       "          0.        ,  0.        ,  0.        ],\n",
       "        [ 0.        ,  0.        ,  0.        ,  0.        ,  0.        ,\n",
       "          0.        ,  0.        ,  0.        ,  0.        ,  0.        ,\n",
       "          0.18823529,  0.86666667,  0.98431373,  0.98431373,  0.6745098 ,\n",
       "          0.        ,  0.        ,  0.        ,  0.        ,  0.        ,\n",
       "          0.        ,  0.        ,  0.        ,  0.        ,  0.        ,\n",
       "          0.        ,  0.        ,  0.        ],\n",
       "        [ 0.        ,  0.        ,  0.        ,  0.        ,  0.        ,\n",
       "          0.        ,  0.        ,  0.        ,  0.        ,  0.        ,\n",
       "          0.91764706,  0.98431373,  0.98431373,  0.76862745,  0.04705882,\n",
       "          0.        ,  0.        ,  0.        ,  0.        ,  0.        ,\n",
       "          0.        ,  0.        ,  0.        ,  0.        ,  0.        ,\n",
       "          0.        ,  0.        ,  0.        ],\n",
       "        [ 0.        ,  0.        ,  0.        ,  0.        ,  0.        ,\n",
       "          0.        ,  0.        ,  0.        ,  0.        ,  0.        ,\n",
       "          0.99215686,  0.98431373,  0.98431373,  0.34901961,  0.        ,\n",
       "          0.        ,  0.        ,  0.        ,  0.        ,  0.        ,\n",
       "          0.        ,  0.        ,  0.        ,  0.        ,  0.        ,\n",
       "          0.        ,  0.        ,  0.        ],\n",
       "        [ 0.        ,  0.        ,  0.        ,  0.        ,  0.        ,\n",
       "          0.        ,  0.        ,  0.        ,  0.        ,  0.62352941,\n",
       "          1.        ,  0.99215686,  0.99215686,  0.12156863,  0.        ,\n",
       "          0.        ,  0.        ,  0.        ,  0.        ,  0.        ,\n",
       "          0.        ,  0.        ,  0.        ,  0.        ,  0.        ,\n",
       "          0.        ,  0.        ,  0.        ],\n",
       "        [ 0.        ,  0.        ,  0.        ,  0.        ,  0.        ,\n",
       "          0.        ,  0.        ,  0.        ,  0.18823529,  0.89411765,\n",
       "          0.99215686,  0.96862745,  0.54901961,  0.03137255,  0.        ,\n",
       "          0.        ,  0.        ,  0.        ,  0.        ,  0.        ,\n",
       "          0.        ,  0.        ,  0.        ,  0.        ,  0.        ,\n",
       "          0.        ,  0.        ,  0.        ],\n",
       "        [ 0.        ,  0.        ,  0.        ,  0.        ,  0.        ,\n",
       "          0.        ,  0.        ,  0.        ,  0.25098039,  0.98431373,\n",
       "          0.99215686,  0.8627451 ,  0.        ,  0.        ,  0.        ,\n",
       "          0.        ,  0.        ,  0.        ,  0.        ,  0.        ,\n",
       "          0.        ,  0.        ,  0.        ,  0.        ,  0.        ,\n",
       "          0.        ,  0.        ,  0.        ],\n",
       "        [ 0.        ,  0.        ,  0.        ,  0.        ,  0.        ,\n",
       "          0.        ,  0.        ,  0.        ,  0.25098039,  0.98431373,\n",
       "          0.99215686,  0.8627451 ,  0.        ,  0.        ,  0.        ,\n",
       "          0.        ,  0.        ,  0.        ,  0.        ,  0.        ,\n",
       "          0.        ,  0.        ,  0.        ,  0.        ,  0.        ,\n",
       "          0.        ,  0.        ,  0.        ],\n",
       "        [ 0.        ,  0.        ,  0.        ,  0.        ,  0.        ,\n",
       "          0.        ,  0.        ,  0.        ,  0.09411765,  0.75686275,\n",
       "          0.99215686,  0.8627451 ,  0.        ,  0.        ,  0.        ,\n",
       "          0.        ,  0.        ,  0.        ,  0.        ,  0.        ,\n",
       "          0.        ,  0.        ,  0.        ,  0.        ,  0.        ,\n",
       "          0.        ,  0.        ,  0.        ],\n",
       "        [ 0.        ,  0.        ,  0.        ,  0.        ,  0.        ,\n",
       "          0.        ,  0.        ,  0.        ,  0.        ,  0.        ,\n",
       "          0.        ,  0.        ,  0.        ,  0.        ,  0.        ,\n",
       "          0.        ,  0.        ,  0.        ,  0.        ,  0.        ,\n",
       "          0.        ,  0.        ,  0.        ,  0.        ,  0.        ,\n",
       "          0.        ,  0.        ,  0.        ],\n",
       "        [ 0.        ,  0.        ,  0.        ,  0.        ,  0.        ,\n",
       "          0.        ,  0.        ,  0.        ,  0.        ,  0.        ,\n",
       "          0.        ,  0.        ,  0.        ,  0.        ,  0.        ,\n",
       "          0.        ,  0.        ,  0.        ,  0.        ,  0.        ,\n",
       "          0.        ,  0.        ,  0.        ,  0.        ,  0.        ,\n",
       "          0.        ,  0.        ,  0.        ],\n",
       "        [ 0.        ,  0.        ,  0.        ,  0.        ,  0.        ,\n",
       "          0.        ,  0.        ,  0.        ,  0.        ,  0.        ,\n",
       "          0.        ,  0.        ,  0.        ,  0.        ,  0.        ,\n",
       "          0.        ,  0.        ,  0.        ,  0.        ,  0.        ,\n",
       "          0.        ,  0.        ,  0.        ,  0.        ,  0.        ,\n",
       "          0.        ,  0.        ,  0.        ]],\n",
       "\n",
       "       [[ 0.        ,  0.        ,  0.        ,  0.        ,  0.        ,\n",
       "          0.        ,  0.        ,  0.        ,  0.        ,  0.        ,\n",
       "          0.        ,  0.        ,  0.        ,  0.        ,  0.        ,\n",
       "          0.        ,  0.        ,  0.        ,  0.        ,  0.        ,\n",
       "          0.        ,  0.        ,  0.        ,  0.        ,  0.        ,\n",
       "          0.        ,  0.        ,  0.        ],\n",
       "        [ 0.        ,  0.        ,  0.        ,  0.        ,  0.        ,\n",
       "          0.        ,  0.        ,  0.        ,  0.        ,  0.        ,\n",
       "          0.        ,  0.        ,  0.        ,  0.        ,  0.        ,\n",
       "          0.        ,  0.        ,  0.        ,  0.        ,  0.        ,\n",
       "          0.        ,  0.        ,  0.        ,  0.        ,  0.        ,\n",
       "          0.        ,  0.        ,  0.        ],\n",
       "        [ 0.        ,  0.        ,  0.        ,  0.        ,  0.        ,\n",
       "          0.        ,  0.        ,  0.        ,  0.        ,  0.        ,\n",
       "          0.        ,  0.        ,  0.        ,  0.        ,  0.        ,\n",
       "          0.        ,  0.        ,  0.        ,  0.        ,  0.        ,\n",
       "          0.        ,  0.        ,  0.        ,  0.        ,  0.        ,\n",
       "          0.        ,  0.        ,  0.        ],\n",
       "        [ 0.        ,  0.        ,  0.        ,  0.        ,  0.        ,\n",
       "          0.        ,  0.        ,  0.        ,  0.        ,  0.        ,\n",
       "          0.        ,  0.        ,  0.        ,  0.        ,  0.        ,\n",
       "          0.        ,  0.        ,  0.        ,  0.        ,  0.        ,\n",
       "          0.        ,  0.        ,  0.        ,  0.        ,  0.        ,\n",
       "          0.        ,  0.        ,  0.        ],\n",
       "        [ 0.        ,  0.        ,  0.        ,  0.        ,  0.        ,\n",
       "          0.        ,  0.        ,  0.        ,  0.        ,  0.        ,\n",
       "          0.        ,  0.        ,  0.        ,  0.        ,  0.        ,\n",
       "          0.        ,  0.        ,  0.        ,  0.        ,  0.        ,\n",
       "          0.        ,  0.        ,  0.        ,  0.        ,  0.        ,\n",
       "          0.        ,  0.        ,  0.        ],\n",
       "        [ 0.        ,  0.        ,  0.        ,  0.        ,  0.        ,\n",
       "          0.        ,  0.        ,  0.        ,  0.        ,  0.        ,\n",
       "          0.        ,  0.        ,  0.        ,  0.        ,  0.        ,\n",
       "          0.        ,  0.        ,  0.        ,  0.        ,  0.        ,\n",
       "          0.        ,  0.        ,  0.        ,  0.        ,  0.        ,\n",
       "          0.        ,  0.        ,  0.        ],\n",
       "        [ 0.        ,  0.        ,  0.        ,  0.        ,  0.        ,\n",
       "          0.        ,  0.        ,  0.        ,  0.        ,  0.        ,\n",
       "          0.        ,  0.        ,  0.        ,  0.        ,  0.        ,\n",
       "          0.        ,  0.        ,  0.        ,  0.        ,  0.        ,\n",
       "          0.        ,  0.        ,  0.        ,  0.        ,  0.        ,\n",
       "          0.        ,  0.        ,  0.        ],\n",
       "        [ 0.        ,  0.        ,  0.        ,  0.        ,  0.        ,\n",
       "          0.        ,  0.        ,  0.        ,  0.        ,  0.        ,\n",
       "          0.        ,  0.        ,  0.21568627,  0.58039216,  0.82352941,\n",
       "          0.99215686,  0.99215686,  0.44313725,  0.34117647,  0.58039216,\n",
       "          0.21568627,  0.        ,  0.        ,  0.        ,  0.        ,\n",
       "          0.        ,  0.        ,  0.        ],\n",
       "        [ 0.        ,  0.        ,  0.        ,  0.        ,  0.        ,\n",
       "          0.        ,  0.        ,  0.        ,  0.        ,  0.        ,\n",
       "          0.        ,  0.34117647,  0.90980392,  0.98823529,  0.99215686,\n",
       "          0.74117647,  0.82352941,  0.98823529,  0.98823529,  0.99215686,\n",
       "          0.65882353,  0.        ,  0.        ,  0.        ,  0.        ,\n",
       "          0.        ,  0.        ,  0.        ],\n",
       "        [ 0.        ,  0.        ,  0.        ,  0.        ,  0.        ,\n",
       "          0.        ,  0.        ,  0.        ,  0.        ,  0.01568627,\n",
       "          0.22352941,  0.94901961,  0.98823529,  0.74509804,  0.25490196,\n",
       "          0.01960784,  0.04705882,  0.71372549,  0.98823529,  0.99215686,\n",
       "          0.45490196,  0.        ,  0.        ,  0.        ,  0.        ,\n",
       "          0.        ,  0.        ,  0.        ],\n",
       "        [ 0.        ,  0.        ,  0.        ,  0.        ,  0.        ,\n",
       "          0.        ,  0.        ,  0.        ,  0.        ,  0.37647059,\n",
       "          0.98823529,  0.98823529,  0.71764706,  0.05490196,  0.        ,\n",
       "          0.        ,  0.36078431,  0.98823529,  0.98823529,  0.88235294,\n",
       "          0.08235294,  0.        ,  0.        ,  0.        ,  0.        ,\n",
       "          0.        ,  0.        ,  0.        ],\n",
       "        [ 0.        ,  0.        ,  0.        ,  0.        ,  0.        ,\n",
       "          0.        ,  0.        ,  0.        ,  0.51764706,  0.99215686,\n",
       "          0.98823529,  0.57254902,  0.05490196,  0.        ,  0.        ,\n",
       "          0.        ,  0.84313725,  0.98823529,  0.98823529,  0.30980392,\n",
       "          0.        ,  0.        ,  0.        ,  0.        ,  0.        ,\n",
       "          0.        ,  0.        ,  0.        ],\n",
       "        [ 0.        ,  0.        ,  0.        ,  0.        ,  0.        ,\n",
       "          0.        ,  0.        ,  0.49411765,  0.99215686,  0.96862745,\n",
       "          0.69019608,  0.03529412,  0.        ,  0.        ,  0.03137255,\n",
       "          0.30588235,  0.96078431,  0.99215686,  0.50588235,  0.        ,\n",
       "          0.        ,  0.        ,  0.        ,  0.        ,  0.        ,\n",
       "          0.        ,  0.        ,  0.        ],\n",
       "        [ 0.        ,  0.        ,  0.        ,  0.        ,  0.        ,\n",
       "          0.        ,  0.0627451 ,  0.90980392,  0.98823529,  0.69019608,\n",
       "          0.        ,  0.        ,  0.        ,  0.14117647,  0.78823529,\n",
       "          0.98823529,  0.98823529,  0.6627451 ,  0.04313725,  0.        ,\n",
       "          0.        ,  0.        ,  0.        ,  0.        ,  0.        ,\n",
       "          0.        ,  0.        ,  0.        ],\n",
       "        [ 0.        ,  0.        ,  0.        ,  0.        ,  0.        ,\n",
       "          0.        ,  0.08627451,  0.98823529,  0.98823529,  0.11764706,\n",
       "          0.08627451,  0.46666667,  0.77254902,  0.94509804,  0.99215686,\n",
       "          0.98823529,  0.98431373,  0.30196078,  0.        ,  0.        ,\n",
       "          0.        ,  0.        ,  0.        ,  0.        ,  0.        ,\n",
       "          0.        ,  0.        ,  0.        ],\n",
       "        [ 0.        ,  0.        ,  0.        ,  0.        ,  0.        ,\n",
       "          0.        ,  0.0627451 ,  0.90588235,  0.98823529,  0.99215686,\n",
       "          0.98823529,  0.98823529,  0.98823529,  0.88627451,  0.89019608,\n",
       "          0.98823529,  0.90588235,  0.        ,  0.        ,  0.        ,\n",
       "          0.        ,  0.        ,  0.        ,  0.        ,  0.        ,\n",
       "          0.        ,  0.        ,  0.        ],\n",
       "        [ 0.        ,  0.        ,  0.        ,  0.        ,  0.        ,\n",
       "          0.        ,  0.        ,  0.21568627,  0.92156863,  0.99215686,\n",
       "          0.85098039,  0.54117647,  0.16470588,  0.09411765,  0.75294118,\n",
       "          0.98823529,  0.56078431,  0.        ,  0.        ,  0.        ,\n",
       "          0.        ,  0.        ,  0.        ,  0.        ,  0.        ,\n",
       "          0.        ,  0.        ,  0.        ],\n",
       "        [ 0.        ,  0.        ,  0.        ,  0.        ,  0.        ,\n",
       "          0.        ,  0.        ,  0.        ,  0.        ,  0.        ,\n",
       "          0.        ,  0.        ,  0.        ,  0.24313725,  1.        ,\n",
       "          0.99215686,  0.42745098,  0.        ,  0.        ,  0.        ,\n",
       "          0.        ,  0.        ,  0.        ,  0.        ,  0.        ,\n",
       "          0.        ,  0.        ,  0.        ],\n",
       "        [ 0.        ,  0.        ,  0.        ,  0.        ,  0.        ,\n",
       "          0.        ,  0.        ,  0.        ,  0.        ,  0.        ,\n",
       "          0.        ,  0.        ,  0.        ,  0.27843137,  0.99215686,\n",
       "          0.98823529,  0.08235294,  0.        ,  0.        ,  0.        ,\n",
       "          0.        ,  0.        ,  0.        ,  0.        ,  0.        ,\n",
       "          0.        ,  0.        ,  0.        ],\n",
       "        [ 0.        ,  0.        ,  0.        ,  0.        ,  0.        ,\n",
       "          0.        ,  0.        ,  0.        ,  0.        ,  0.        ,\n",
       "          0.        ,  0.        ,  0.        ,  0.        ,  0.99215686,\n",
       "          0.98823529,  0.08235294,  0.        ,  0.        ,  0.        ,\n",
       "          0.        ,  0.        ,  0.        ,  0.        ,  0.        ,\n",
       "          0.        ,  0.        ,  0.        ],\n",
       "        [ 0.        ,  0.        ,  0.        ,  0.        ,  0.        ,\n",
       "          0.        ,  0.        ,  0.        ,  0.        ,  0.        ,\n",
       "          0.        ,  0.        ,  0.        ,  0.27843137,  0.99215686,\n",
       "          0.98823529,  0.08235294,  0.        ,  0.        ,  0.        ,\n",
       "          0.        ,  0.        ,  0.        ,  0.        ,  0.        ,\n",
       "          0.        ,  0.        ,  0.        ],\n",
       "        [ 0.        ,  0.        ,  0.        ,  0.        ,  0.        ,\n",
       "          0.        ,  0.        ,  0.        ,  0.        ,  0.        ,\n",
       "          0.        ,  0.        ,  0.        ,  0.41568627,  0.99215686,\n",
       "          0.98823529,  0.08235294,  0.        ,  0.        ,  0.        ,\n",
       "          0.        ,  0.        ,  0.        ,  0.        ,  0.        ,\n",
       "          0.        ,  0.        ,  0.        ],\n",
       "        [ 0.        ,  0.        ,  0.        ,  0.        ,  0.        ,\n",
       "          0.        ,  0.        ,  0.        ,  0.        ,  0.        ,\n",
       "          0.        ,  0.        ,  0.        ,  0.17647059,  1.        ,\n",
       "          0.99215686,  0.08235294,  0.        ,  0.        ,  0.        ,\n",
       "          0.        ,  0.        ,  0.        ,  0.        ,  0.        ,\n",
       "          0.        ,  0.        ,  0.        ],\n",
       "        [ 0.        ,  0.        ,  0.        ,  0.        ,  0.        ,\n",
       "          0.        ,  0.        ,  0.        ,  0.        ,  0.        ,\n",
       "          0.        ,  0.        ,  0.        ,  0.        ,  0.85490196,\n",
       "          0.98823529,  0.21960784,  0.        ,  0.        ,  0.        ,\n",
       "          0.        ,  0.        ,  0.        ,  0.        ,  0.        ,\n",
       "          0.        ,  0.        ,  0.        ],\n",
       "        [ 0.        ,  0.        ,  0.        ,  0.        ,  0.        ,\n",
       "          0.        ,  0.        ,  0.        ,  0.        ,  0.        ,\n",
       "          0.        ,  0.        ,  0.        ,  0.        ,  0.37647059,\n",
       "          0.98823529,  0.74117647,  0.16470588,  0.        ,  0.        ,\n",
       "          0.        ,  0.        ,  0.        ,  0.        ,  0.        ,\n",
       "          0.        ,  0.        ,  0.        ],\n",
       "        [ 0.        ,  0.        ,  0.        ,  0.        ,  0.        ,\n",
       "          0.        ,  0.        ,  0.        ,  0.        ,  0.        ,\n",
       "          0.        ,  0.        ,  0.        ,  0.        ,  0.05490196,\n",
       "          0.72156863,  0.98823529,  0.66666667,  0.04313725,  0.        ,\n",
       "          0.        ,  0.        ,  0.        ,  0.        ,  0.        ,\n",
       "          0.        ,  0.        ,  0.        ],\n",
       "        [ 0.        ,  0.        ,  0.        ,  0.        ,  0.        ,\n",
       "          0.        ,  0.        ,  0.        ,  0.        ,  0.        ,\n",
       "          0.        ,  0.        ,  0.        ,  0.        ,  0.        ,\n",
       "          0.05490196,  0.57647059,  0.98823529,  0.16470588,  0.        ,\n",
       "          0.        ,  0.        ,  0.        ,  0.        ,  0.        ,\n",
       "          0.        ,  0.        ,  0.        ],\n",
       "        [ 0.        ,  0.        ,  0.        ,  0.        ,  0.        ,\n",
       "          0.        ,  0.        ,  0.        ,  0.        ,  0.        ,\n",
       "          0.        ,  0.        ,  0.        ,  0.        ,  0.        ,\n",
       "          0.        ,  0.        ,  0.        ,  0.        ,  0.        ,\n",
       "          0.        ,  0.        ,  0.        ,  0.        ,  0.        ,\n",
       "          0.        ,  0.        ,  0.        ]]])"
      ]
     },
     "execution_count": 51,
     "metadata": {},
     "output_type": "execute_result"
    }
   ],
   "source": [
    "train_x[:5].reshape(-1,28,28)/255"
   ]
  },
  {
   "cell_type": "code",
   "execution_count": null,
   "metadata": {
    "collapsed": true
   },
   "outputs": [],
   "source": []
  }
 ],
 "metadata": {
  "kernelspec": {
   "display_name": "Python 3",
   "language": "python",
   "name": "python3"
  },
  "language_info": {
   "codemirror_mode": {
    "name": "ipython",
    "version": 3
   },
   "file_extension": ".py",
   "mimetype": "text/x-python",
   "name": "python",
   "nbconvert_exporter": "python",
   "pygments_lexer": "ipython3",
   "version": "3.6.1"
  }
 },
 "nbformat": 4,
 "nbformat_minor": 2
}
